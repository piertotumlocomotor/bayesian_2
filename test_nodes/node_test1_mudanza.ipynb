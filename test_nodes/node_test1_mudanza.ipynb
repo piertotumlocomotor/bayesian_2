{
 "cells": [
  {
   "cell_type": "code",
   "execution_count": 1,
   "metadata": {},
   "outputs": [],
   "source": [
    "# Load kedro environment (not needed in .py)\n",
    "from pathlib import Path\n",
    "from kedro.framework.context import load_context\n",
    "\n",
    "# Load a context to be able to work in the notebook\n",
    "#current_dir = Path.cwd()\n",
    "current_dir = Path(\"/u01/share/cesar/aa_engine_uy/notebooks/\")\n",
    "proj_path = current_dir.parent\n",
    "context = load_context(proj_path)\n",
    "catalog = context.catalog\n",
    "credentials = context.config_loader.get(\"credentials*\",\"credentials*/**\")\n",
    "parameters = context.config_loader.get(\"parameters*\",\"parameters*/**\")\n",
    "\n",
    "from aa_engine_pkg.assets.utils import *\n",
    "from aa_engine_pkg.assets.core.data.kedro.catalog_expansion.partitioned_sql import SQLPartitionedDataSet"
   ]
  },
  {
   "cell_type": "code",
   "execution_count": 2,
   "metadata": {},
   "outputs": [],
   "source": [
    "date='20180605'"
   ]
  },
  {
   "cell_type": "code",
   "execution_count": 3,
   "metadata": {},
   "outputs": [],
   "source": [
    "def create_cliente_activo(cliente_activo: SQLPartitionedDataSet,\n",
    "                          date: str) -> pd.DataFrame:\n",
    "    \"\"\"Creates master table with features related to EoP state of customers for one period of data\n",
    "\n",
    "    Parameters\n",
    "    ----------\n",
    "    cliente_activo:\n",
    "        dataset defined in ´catalog.yml´ - list of active customers at EoP for the given period\n",
    "    date:\n",
    "        period to process\n",
    "    \n",
    "    Returns\n",
    "    -------\n",
    "        Mastertable with information of clientes at EoP\n",
    "    \"\"\"\n",
    "\n",
    "    # Initialize logger\n",
    "    log = initialize_logger()\n",
    "\n",
    "    # Load active clientes for period\n",
    "    log.info(f\"Creating cliente_activo...\")\n",
    "    period_to_load = get_previous_month(date)\n",
    "    df_clientes_activos = cliente_activo.filter_by(date=period_to_load)\n",
    "\n",
    "    # Return\n",
    "    return df_clientes_activos"
   ]
  },
  {
   "cell_type": "code",
   "execution_count": 4,
   "metadata": {},
   "outputs": [
    {
     "name": "stdout",
     "output_type": "stream",
     "text": [
      "2021-01-19 20:46:31,351 - kedro.io.data_catalog - INFO - Loading data from `cliente_activo` (SQLPartitionedDataSet)...\n"
     ]
    }
   ],
   "source": [
    "cliente_activo=catalog.load(\"cliente_activo\")"
   ]
  },
  {
   "cell_type": "code",
   "execution_count": 5,
   "metadata": {},
   "outputs": [
    {
     "name": "stdout",
     "output_type": "stream",
     "text": [
      "2021-01-19 20:46:32,314 - aa_engine_pkg.assets.utils.utilities - INFO - Creating cliente_activo...\n",
      "select distinct CUSTOMER_ID from stg_uy_customer_status where UPPER(STATUS) LIKE '%ACTIVO%' and DATE_EXP = 201805\n"
     ]
    },
    {
     "name": "stderr",
     "output_type": "stream",
     "text": [
      "/u01/miniconda3/envs/uypo37/lib/python3.7/site-packages/sqlalchemy/dialects/oracle/base.py:1381: SAWarning: Oracle version (19, 5, 0, 0, 0) is known to have a maximum identifier length of 128, rather than the historical default of 30. SQLAlchemy 1.4 will use 128 for this database; please set max_identifier_length=128 in create_engine() in order to test the application with this new length, or set to 30 in order to assure that 30 continues to be used.  In particular, pay close attention to the behavior of database migrations as dynamically generated names may change. See the section 'Max Identifier Lengths' in the SQLAlchemy Oracle dialect documentation for background.\n",
      "  % ((self.server_version_info,))\n"
     ]
    }
   ],
   "source": [
    "cliente_activo_df= create_cliente_activo(cliente_activo,date)"
   ]
  },
  {
   "cell_type": "code",
   "execution_count": 6,
   "metadata": {},
   "outputs": [
    {
     "name": "stdout",
     "output_type": "stream",
     "text": [
      "2021-01-19 20:46:35,074 - kedro.io.data_catalog - INFO - Loading data from `mudanza` (SQLPartitionedDataSet)...\n"
     ]
    }
   ],
   "source": [
    "mudanza=catalog.load(\"mudanza\")"
   ]
  },
  {
   "cell_type": "code",
   "execution_count": 7,
   "metadata": {},
   "outputs": [],
   "source": [
    "past_periods = [7, 28, 84, 168]\n"
   ]
  },
  {
   "cell_type": "code",
   "execution_count": 8,
   "metadata": {},
   "outputs": [],
   "source": [
    "# Initialize logger\n",
    "log = initialize_logger()"
   ]
  },
  {
   "cell_type": "code",
   "execution_count": 9,
   "metadata": {},
   "outputs": [
    {
     "name": "stdout",
     "output_type": "stream",
     "text": [
      "2021-01-19 20:46:36,434 - aa_engine_pkg.assets.utils.utilities - INFO - Creating master table mudanza\n",
      "select CUSTOMER_ID, FECHA, DOMICILIO_INS_FACT, DATE_EXP from stg_uy_mudanza where FECHA >= to_date('20171219', 'yyyymmdd') and FECHA < to_date('20180605', 'yyyymmdd')\n"
     ]
    }
   ],
   "source": [
    "log.info(\"Creating master table mudanza\")\n",
    "\n",
    "# Read parameters\n",
    "lookback_days = parameters[\"masters\"][\"global\"][\"look_back_days\"]\n",
    "start_date = (pd.to_datetime(date) - timedelta(days=lookback_days)).strftime(\"%Y%m%d\")\n",
    "\n",
    "# Calculate period to load for active clients\n",
    "period_to_load = get_previous_month(date)\n",
    "df_clientes = cliente_activo_df[[\"CUSTOMER_ID\"]]\n",
    "\n",
    "# Get intencion de baja and churn tables\n",
    "df_mudanza = mudanza.filter_by(date=[start_date,\n",
    "                                     date]).drop_duplicates()"
   ]
  },
  {
   "cell_type": "code",
   "execution_count": 10,
   "metadata": {},
   "outputs": [
    {
     "name": "stdout",
     "output_type": "stream",
     "text": [
      "2021-01-19 20:46:38,096 - aa_engine_pkg.assets.utils.utilities - INFO - Creating past variables...\n",
      "2021-01-19 20:46:38,097 - aa_engine_pkg.assets.utils.utilities - INFO - Adding relative date between 20171219 and 20180605\n",
      "2021-01-19 20:46:38,113 - aa_engine_pkg.assets.utils.utilities - INFO - Expanding table for period: 7\n",
      "2021-01-19 20:46:38,122 - aa_engine_pkg.assets.utils.utilities - INFO - Expanding table for period: 28\n",
      "2021-01-19 20:46:38,130 - aa_engine_pkg.assets.utils.utilities - INFO - Expanding table for period: 84\n",
      "2021-01-19 20:46:38,140 - aa_engine_pkg.assets.utils.utilities - INFO - Expanding table for period: 168\n"
     ]
    }
   ],
   "source": [
    "# Format date\n",
    "df_mudanza[\"FECHA\"] = df_mudanza[\"FECHA\"].dt.strftime(\"%Y%m%d\")\n",
    "\n",
    "# Merging\n",
    "df_master_mudanza = df_clientes.merge(df_mudanza,\n",
    "                                      on=\"CUSTOMER_ID\",\n",
    "                                      how=\"inner\")\n",
    "\n",
    "# Calculate days since last mudanza\n",
    "df_master_mudanza[\"DAYS\"] = (pd.to_datetime(date) - pd.to_datetime(df_master_mudanza[\"FECHA\"],\n",
    "                                                                   format=\"%Y%m%d\")) / np.timedelta64(1, \"D\")\n",
    "df_days = flatten_df(df_master_mudanza.groupby(\"CUSTOMER_ID\").agg({\"DAYS\": [np.nanmin, np.nanmax]}))\n",
    "# Calculate n of mudanzas\n",
    "df_master_mudanza[\"N\"] = 1\n",
    "\n",
    "log.info(\"Creating past variables...\")\n",
    "df_mudanza_past = add_relative_calculate_past(df=df_master_mudanza,\n",
    "                                              id_cols=[\"CUSTOMER_ID\"],\n",
    "                                              periods=past_periods,\n",
    "                                              columns_to_expand=[\"N\"],\n",
    "                                              agg=[\"sum\"],\n",
    "                                              date_col=\"FECHA\",\n",
    "                                              start_date=start_date,\n",
    "                                              end_date=date,\n",
    "                                              period_freq=\"D\")\n",
    "\n",
    "df_mudanza_past = df_mudanza_past.merge(df_days, on=\"CUSTOMER_ID\", validate=\"1:1\")\n",
    "\n",
    "# Add date variables\n",
    "df_mudanza_past[\"DATE_EXP\"] = period_to_load\n",
    "df_mudanza_past[\"DATE_CALC\"] = date\n",
    "\n",
    "# Rename table\n",
    "rename_table(df=df_mudanza_past,\n",
    "             preffix=\"MUD\",\n",
    "             ids_to_exclude=[\"CUSTOMER_ID\", \"DATE_EXP\", \"DATE_CALC\"]\n",
    "             )"
   ]
  },
  {
   "cell_type": "code",
   "execution_count": 11,
   "metadata": {},
   "outputs": [
    {
     "data": {
      "text/html": [
       "<div>\n",
       "<style scoped>\n",
       "    .dataframe tbody tr th:only-of-type {\n",
       "        vertical-align: middle;\n",
       "    }\n",
       "\n",
       "    .dataframe tbody tr th {\n",
       "        vertical-align: top;\n",
       "    }\n",
       "\n",
       "    .dataframe thead th {\n",
       "        text-align: right;\n",
       "    }\n",
       "</style>\n",
       "<table border=\"1\" class=\"dataframe\">\n",
       "  <thead>\n",
       "    <tr style=\"text-align: right;\">\n",
       "      <th></th>\n",
       "      <th>CUSTOMER_ID</th>\n",
       "      <th>FECHA</th>\n",
       "      <th>DOMICILIO_INS_FACT</th>\n",
       "      <th>DATE_EXP</th>\n",
       "      <th>DAYS</th>\n",
       "      <th>N</th>\n",
       "    </tr>\n",
       "  </thead>\n",
       "  <tbody>\n",
       "    <tr>\n",
       "      <th>0</th>\n",
       "      <td>180460</td>\n",
       "      <td>20180227</td>\n",
       "      <td>DOMICILIO DE FACTURACION</td>\n",
       "      <td>201802</td>\n",
       "      <td>98.0</td>\n",
       "      <td>1</td>\n",
       "    </tr>\n",
       "    <tr>\n",
       "      <th>1</th>\n",
       "      <td>189942</td>\n",
       "      <td>20180112</td>\n",
       "      <td>DOMICILIO DE FACTURACION</td>\n",
       "      <td>201801</td>\n",
       "      <td>144.0</td>\n",
       "      <td>1</td>\n",
       "    </tr>\n",
       "    <tr>\n",
       "      <th>2</th>\n",
       "      <td>227684</td>\n",
       "      <td>20180424</td>\n",
       "      <td>DOMICILIO DE FACTURACION</td>\n",
       "      <td>201804</td>\n",
       "      <td>42.0</td>\n",
       "      <td>1</td>\n",
       "    </tr>\n",
       "    <tr>\n",
       "      <th>3</th>\n",
       "      <td>188240</td>\n",
       "      <td>20180226</td>\n",
       "      <td>DOMICILIO DE FACTURACION</td>\n",
       "      <td>201802</td>\n",
       "      <td>99.0</td>\n",
       "      <td>1</td>\n",
       "    </tr>\n",
       "    <tr>\n",
       "      <th>4</th>\n",
       "      <td>168989</td>\n",
       "      <td>20180419</td>\n",
       "      <td>DOMICILIO DE FACTURACION</td>\n",
       "      <td>201804</td>\n",
       "      <td>47.0</td>\n",
       "      <td>1</td>\n",
       "    </tr>\n",
       "  </tbody>\n",
       "</table>\n",
       "</div>"
      ],
      "text/plain": [
       "   CUSTOMER_ID     FECHA        DOMICILIO_INS_FACT DATE_EXP   DAYS  N\n",
       "0       180460  20180227  DOMICILIO DE FACTURACION   201802   98.0  1\n",
       "1       189942  20180112  DOMICILIO DE FACTURACION   201801  144.0  1\n",
       "2       227684  20180424  DOMICILIO DE FACTURACION   201804   42.0  1\n",
       "3       188240  20180226  DOMICILIO DE FACTURACION   201802   99.0  1\n",
       "4       168989  20180419  DOMICILIO DE FACTURACION   201804   47.0  1"
      ]
     },
     "execution_count": 11,
     "metadata": {},
     "output_type": "execute_result"
    }
   ],
   "source": [
    "df_master_mudanza.head()"
   ]
  },
  {
   "cell_type": "code",
   "execution_count": 29,
   "metadata": {},
   "outputs": [
    {
     "data": {
      "text/html": [
       "<div>\n",
       "<style scoped>\n",
       "    .dataframe tbody tr th:only-of-type {\n",
       "        vertical-align: middle;\n",
       "    }\n",
       "\n",
       "    .dataframe tbody tr th {\n",
       "        vertical-align: top;\n",
       "    }\n",
       "\n",
       "    .dataframe thead th {\n",
       "        text-align: right;\n",
       "    }\n",
       "</style>\n",
       "<table border=\"1\" class=\"dataframe\">\n",
       "  <thead>\n",
       "    <tr style=\"text-align: right;\">\n",
       "      <th></th>\n",
       "      <th>CUSTOMER_ID</th>\n",
       "      <th>MUD_N_sum_7</th>\n",
       "      <th>MUD_N_sum_28</th>\n",
       "      <th>MUD_N_sum_84</th>\n",
       "      <th>MUD_N_sum_168</th>\n",
       "      <th>MUD_DAYS_nanmin</th>\n",
       "      <th>MUD_DAYS_nanmax</th>\n",
       "      <th>DATE_EXP</th>\n",
       "      <th>DATE_CALC</th>\n",
       "    </tr>\n",
       "  </thead>\n",
       "  <tbody>\n",
       "    <tr>\n",
       "      <th>0</th>\n",
       "      <td>180460</td>\n",
       "      <td>NaN</td>\n",
       "      <td>NaN</td>\n",
       "      <td>NaN</td>\n",
       "      <td>1</td>\n",
       "      <td>98.0</td>\n",
       "      <td>98.0</td>\n",
       "      <td>201805</td>\n",
       "      <td>20180605</td>\n",
       "    </tr>\n",
       "    <tr>\n",
       "      <th>1</th>\n",
       "      <td>189942</td>\n",
       "      <td>NaN</td>\n",
       "      <td>NaN</td>\n",
       "      <td>NaN</td>\n",
       "      <td>1</td>\n",
       "      <td>144.0</td>\n",
       "      <td>144.0</td>\n",
       "      <td>201805</td>\n",
       "      <td>20180605</td>\n",
       "    </tr>\n",
       "    <tr>\n",
       "      <th>2</th>\n",
       "      <td>227684</td>\n",
       "      <td>NaN</td>\n",
       "      <td>NaN</td>\n",
       "      <td>1.0</td>\n",
       "      <td>1</td>\n",
       "      <td>42.0</td>\n",
       "      <td>42.0</td>\n",
       "      <td>201805</td>\n",
       "      <td>20180605</td>\n",
       "    </tr>\n",
       "    <tr>\n",
       "      <th>3</th>\n",
       "      <td>188240</td>\n",
       "      <td>NaN</td>\n",
       "      <td>NaN</td>\n",
       "      <td>NaN</td>\n",
       "      <td>1</td>\n",
       "      <td>99.0</td>\n",
       "      <td>99.0</td>\n",
       "      <td>201805</td>\n",
       "      <td>20180605</td>\n",
       "    </tr>\n",
       "    <tr>\n",
       "      <th>4</th>\n",
       "      <td>168989</td>\n",
       "      <td>NaN</td>\n",
       "      <td>NaN</td>\n",
       "      <td>1.0</td>\n",
       "      <td>1</td>\n",
       "      <td>47.0</td>\n",
       "      <td>47.0</td>\n",
       "      <td>201805</td>\n",
       "      <td>20180605</td>\n",
       "    </tr>\n",
       "  </tbody>\n",
       "</table>\n",
       "</div>"
      ],
      "text/plain": [
       "   CUSTOMER_ID  MUD_N_sum_7  MUD_N_sum_28  MUD_N_sum_84  MUD_N_sum_168  \\\n",
       "0       180460          NaN           NaN           NaN              1   \n",
       "1       189942          NaN           NaN           NaN              1   \n",
       "2       227684          NaN           NaN           1.0              1   \n",
       "3       188240          NaN           NaN           NaN              1   \n",
       "4       168989          NaN           NaN           1.0              1   \n",
       "\n",
       "   MUD_DAYS_nanmin  MUD_DAYS_nanmax DATE_EXP DATE_CALC  \n",
       "0             98.0             98.0   201805  20180605  \n",
       "1            144.0            144.0   201805  20180605  \n",
       "2             42.0             42.0   201805  20180605  \n",
       "3             99.0             99.0   201805  20180605  \n",
       "4             47.0             47.0   201805  20180605  "
      ]
     },
     "execution_count": 29,
     "metadata": {},
     "output_type": "execute_result"
    }
   ],
   "source": [
    "df_mudanza_past.head()"
   ]
  },
  {
   "cell_type": "code",
   "execution_count": null,
   "metadata": {},
   "outputs": [],
   "source": [
    "def create_master_mudanza(mudanza: SQLPartitionedDataSet,\n",
    "                          cliente_activo: pd.DataFrame,\n",
    "                          parameters: Dict,\n",
    "                          date: str) -> pd.DataFrame:\n",
    "    \"\"\"Creates master table with customer change of residency features for one period of data\n",
    "    Parameters\n",
    "    ----------\n",
    "    mudanza: \n",
    "        dataset defined in ``catalog_raw.yml`` with raw data information related to customer change of residency\n",
    "    cliente_activo: \n",
    "        dataset defined in ``catalog_raw.yml`` with raw data information related to active clients at EoP\n",
    "    date: \n",
    "        period to process\n",
    "    parameters: \n",
    "        set of project parameters defined in ``parameters.yml``\n",
    "    Returns\n",
    "    -------\n",
    "    pd.DataFrame\n",
    "        Master table with customer change of residency features for one period\n",
    "    \"\"\"\n",
    "\n",
    "    # Initialize logger\n",
    "    log = initialize_logger()\n",
    "\n",
    "    write_to_parquet = parameters[\"write_to_parquet\"]\n",
    "    table_name = \"mudanza\"\n",
    "\n",
    "    # Check if table was already created\n",
    "    files = get_mastertable_paths_by_period(parameters=parameters, period=date)\n",
    "    match = [str(file) for file in files if table_name in file]\n",
    "\n",
    "    if len(match) > 0:\n",
    "        # If table is found, read parquet:\n",
    "        log.info(f\"Reading {match[0]} table\")\n",
    "        df_mudanza_past = pd.read_parquet(match[0], engine=\"pyarrow\")\n",
    "\n",
    "    else:\n",
    "\n",
    "        # Initialize logger\n",
    "        log = initialize_logger()\n",
    "        log.info(\"Creating master table mudanza\")\n",
    "\n",
    "        # Read parameters\n",
    "        lookback_days = parameters[\"masters\"][\"global\"][\"look_back_days\"]\n",
    "        start_date = (pd.to_datetime(date) - timedelta(days=lookback_days)).strftime(\"%Y%m%d\")\n",
    "\n",
    "        # Calculate period to load for active clients\n",
    "        period_to_load = get_previous_month(date)\n",
    "        df_clientes = cliente_activo[[\"CUSTOMER_ID\"]]\n",
    "\n",
    "        # Get intencion de baja and churn tables\n",
    "        df_mudanza = mudanza.filter_by(date=[start_date,\n",
    "                                             date]).drop_duplicates()\n",
    "\n",
    "        # Format date\n",
    "        df_mudanza[\"FECHA\"] = df_mudanza[\"FECHA\"].dt.strftime(\"%Y%m%d\")\n",
    "\n",
    "        # Merging\n",
    "        df_master_mudanza = df_clientes.merge(df_mudanza,\n",
    "                                              on=\"CUSTOMER_ID\",\n",
    "                                              how=\"inner\")\n",
    "\n",
    "        # Calculate days since last mudanza\n",
    "        df_master_mudanza[\"DAYS\"] = (pd.to_datetime(date) - pd.to_datetime(df_master_mudanza[\"FECHA\"],\n",
    "                                                                           format=\"%Y%m%d\")) / np.timedelta64(1, \"D\")\n",
    "        df_days = flatten_df(df_master_mudanza.groupby(\"CUSTOMER_ID\").agg({\"DAYS\": [np.nanmin, np.nanmax]}))\n",
    "        # Calculate n of mudanzas\n",
    "        df_master_mudanza[\"N\"] = 1\n",
    "\n",
    "        log.info(\"Creating past variables...\")\n",
    "        df_mudanza_past = add_relative_calculate_past(df=df_master_mudanza,\n",
    "                                                      id_cols=[\"CUSTOMER_ID\"],\n",
    "                                                      periods=past_periods,\n",
    "                                                      columns_to_expand=[\"N\"],\n",
    "                                                      agg=[\"sum\"],\n",
    "                                                      date_col=\"FECHA\",\n",
    "                                                      start_date=start_date,\n",
    "                                                      end_date=date,\n",
    "                                                      period_freq=\"D\")\n",
    "\n",
    "        df_mudanza_past = df_mudanza_past.merge(df_days, on=\"CUSTOMER_ID\", validate=\"1:1\")\n",
    "\n",
    "        # Add date variables\n",
    "        df_mudanza_past[\"DATE_EXP\"] = period_to_load\n",
    "        df_mudanza_past[\"DATE_CALC\"] = date\n",
    "\n",
    "        # Rename table\n",
    "        rename_table(df=df_mudanza_past,\n",
    "                     preffix=\"MUD\",\n",
    "                     ids_to_exclude=[\"CUSTOMER_ID\", \"DATE_EXP\", \"DATE_CALC\"]\n",
    "                     )\n",
    "        # Return\n",
    "        log.info(f\"Exporting {df_mudanza_past.shape[0]} rows and {df_mudanza_past.shape[1]} columns\")\n",
    "\n",
    "        if write_to_parquet:\n",
    "            log.info(f\"\\n------ Writing {table_name} for period {date} to parquet ------\")\n",
    "            file = f\"{parameters['paths']['master_path']}master_{table_name}/master_{table_name}_{date}.parquet\"\n",
    "            df_mudanza_past.to_parquet(file, engine=\"pyarrow\")\n",
    "\n",
    "        log.info(f\"Exporting {df_mudanza_past.shape[0]} rows and {df_mudanza_past.shape[1]} columns\")\n",
    "\n",
    "    return df_mudanza_past"
   ]
  },
  {
   "cell_type": "code",
   "execution_count": null,
   "metadata": {},
   "outputs": [],
   "source": []
  }
 ],
 "metadata": {
  "kernelspec": {
   "display_name": "Python 3",
   "language": "python",
   "name": "python3"
  },
  "language_info": {
   "codemirror_mode": {
    "name": "ipython",
    "version": 3
   },
   "file_extension": ".py",
   "mimetype": "text/x-python",
   "name": "python",
   "nbconvert_exporter": "python",
   "pygments_lexer": "ipython3",
   "version": "3.7.7"
  }
 },
 "nbformat": 4,
 "nbformat_minor": 4
}
