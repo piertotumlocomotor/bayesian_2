{
 "cells": [
  {
   "cell_type": "code",
   "execution_count": 2,
   "metadata": {},
   "outputs": [],
   "source": [
    "# Load kedro environment (not needed in .py)\n",
    "from pathlib import Path\n",
    "from kedro.framework.context import load_context\n",
    "\n",
    "# Load a context to be able to work in the notebook\n",
    "#current_dir = Path.cwd()\n",
    "current_dir = Path(\"/u01/share/cesar/aa_engine_uy/notebooks/\")\n",
    "proj_path = current_dir.parent\n",
    "context = load_context(proj_path)\n",
    "catalog = context.catalog\n",
    "credentials = context.config_loader.get(\"credentials*\",\"credentials*/**\")\n",
    "parameters = context.config_loader.get(\"parameters*\",\"parameters*/**\")\n",
    "\n",
    "from aa_engine_pkg.assets.utils import *\n",
    "from aa_engine_pkg.assets.core.data.kedro.catalog_expansion.partitioned_sql import SQLPartitionedDataSet"
   ]
  },
  {
   "cell_type": "code",
   "execution_count": 3,
   "metadata": {},
   "outputs": [],
   "source": [
    "date='20180605'"
   ]
  },
  {
   "cell_type": "code",
   "execution_count": 4,
   "metadata": {},
   "outputs": [],
   "source": [
    "def create_cliente_activo(cliente_activo: SQLPartitionedDataSet,\n",
    "                          date: str) -> pd.DataFrame:\n",
    "    \"\"\"Creates master table with features related to EoP state of customers for one period of data\n",
    "\n",
    "    Parameters\n",
    "    ----------\n",
    "    cliente_activo:\n",
    "        dataset defined in ´catalog.yml´ - list of active customers at EoP for the given period\n",
    "    date:\n",
    "        period to process\n",
    "    \n",
    "    Returns\n",
    "    -------\n",
    "        Mastertable with information of clientes at EoP\n",
    "    \"\"\"\n",
    "\n",
    "    # Initialize logger\n",
    "    log = initialize_logger()\n",
    "\n",
    "    # Load active clientes for period\n",
    "    log.info(f\"Creating cliente_activo...\")\n",
    "    period_to_load = get_previous_month(date)\n",
    "    df_clientes_activos = cliente_activo.filter_by(date=period_to_load)\n",
    "\n",
    "    # Return\n",
    "    return df_clientes_activos"
   ]
  },
  {
   "cell_type": "code",
   "execution_count": 5,
   "metadata": {},
   "outputs": [
    {
     "name": "stdout",
     "output_type": "stream",
     "text": [
      "2020-12-30 17:48:09,651 - kedro.io.data_catalog - INFO - Loading data from `cliente_activo` (SQLPartitionedDataSet)...\n"
     ]
    }
   ],
   "source": [
    "cliente_activo=catalog.load(\"cliente_activo\")"
   ]
  },
  {
   "cell_type": "code",
   "execution_count": 6,
   "metadata": {},
   "outputs": [
    {
     "name": "stdout",
     "output_type": "stream",
     "text": [
      "2020-12-30 17:48:12,256 - aa_engine_pkg.assets.utils.utilities - INFO - Creating cliente_activo...\n",
      "select distinct CUSTOMER_ID from stg_uy_customer_status where UPPER(STATUS) LIKE '%ACTIVO%' and DATE_EXP = 201805\n"
     ]
    },
    {
     "name": "stderr",
     "output_type": "stream",
     "text": [
      "/u01/miniconda3/envs/uypo37/lib/python3.7/site-packages/sqlalchemy/dialects/oracle/base.py:1381: SAWarning: Oracle version (19, 5, 0, 0, 0) is known to have a maximum identifier length of 128, rather than the historical default of 30. SQLAlchemy 1.4 will use 128 for this database; please set max_identifier_length=128 in create_engine() in order to test the application with this new length, or set to 30 in order to assure that 30 continues to be used.  In particular, pay close attention to the behavior of database migrations as dynamically generated names may change. See the section 'Max Identifier Lengths' in the SQLAlchemy Oracle dialect documentation for background.\n",
      "  % ((self.server_version_info,))\n"
     ]
    }
   ],
   "source": [
    "cliente_activo_df= create_cliente_activo(cliente_activo,date)"
   ]
  },
  {
   "cell_type": "code",
   "execution_count": 7,
   "metadata": {},
   "outputs": [
    {
     "name": "stdout",
     "output_type": "stream",
     "text": [
      "2020-12-30 17:48:14,993 - kedro.io.data_catalog - INFO - Loading data from `eop` (SQLPartitionedDataSet)...\n"
     ]
    }
   ],
   "source": [
    "eop=catalog.load(\"eop\")"
   ]
  },
  {
   "cell_type": "code",
   "execution_count": 8,
   "metadata": {},
   "outputs": [],
   "source": [
    "dict_product = {147:\"PLATA\", 169:\"PLATA\",\t\t\t\t\n",
    "139:\"ORO\",132:\"ORO\",134:\"ORO\",133:\"ORO\",139:\"ORO\",\t\n",
    "130:\"HBO\",31:\"HBO\",27:\"HBO\",\t\t\t\n",
    "129:\"FOX\",28:\"FOX\",\t\t\t\t\n",
    "44:\"DEPORTES\",160:\"DEPORTES\",116:\"DEPORTES\",121:\"DEPORTES\",113:\"DEPORTES\",105:\"DEPORTES\",\n",
    "135:\"BRONCE\",217:\"BRONCE\",217:\"BRONCE\",216:\"BRONCE\",216:\"BRONCE\",\t\n",
    "138:\"ADULTOS\",43:\"ADULTOS\",158:\"ADULTOS\",141:\"ADULTOS\",142:\"ADULTOS\",42:\"ADULTOS\"}\n",
    "\n",
    "id_cols = [\"CUSTOMER_ID\", \"DATE_EXP\"]\n"
   ]
  },
  {
   "cell_type": "code",
   "execution_count": 14,
   "metadata": {},
   "outputs": [
    {
     "name": "stdout",
     "output_type": "stream",
     "text": [
      "2020-12-30 18:04:49,824 - aa_engine_pkg.assets.utils.utilities - INFO - Reading table...\n",
      "2020-12-30 18:04:49,827 - aa_engine_pkg.assets.utils.utilities - INFO - Reading table...\n",
      "select DATE_EXP, CUSTOMER_ID, PRC_CODIGO, PRODUCTO, PRC_TIPO_ID, TEC_ID, MOP, TENURE from stg_uy_eop_customer where DATE_EXP = 201805\n",
      "2020-12-30 18:05:01,184 - aa_engine_pkg.assets.utils.utilities - INFO - Calculating number of products\n"
     ]
    }
   ],
   "source": [
    "# Initialize logger\n",
    "log = initialize_logger()\n",
    "# If table is not found, then create it:\n",
    "log.info(\"Reading table...\")\n",
    "\n",
    "# Change date format if needed \n",
    "if len(date) == 8:\n",
    "    date_exp = get_previous_month(date)\n",
    "else:\n",
    "    date_exp = str(date)\n",
    "            \n",
    "# Load active clientes\n",
    "log.info(\"Reading table...\")\n",
    "df_clientes = eop.filter_by_period(date=date_exp).drop_duplicates()\n",
    "df_clientes_activos = cliente_activo_df[[\"CUSTOMER_ID\"]]\n",
    "\n",
    "df_clientes = pd.merge(df_clientes,\n",
    "                       df_clientes_activos,\n",
    "                       on=\"CUSTOMER_ID\",\n",
    "                       how=\"inner\",\n",
    "                       validate=\"m:1\")\n",
    "\n",
    "# Calculate number of products per customer\n",
    "log.info(\"Calculating number of products\")\n",
    "df_products = pd.pivot_table(data=df_clientes[[\"CUSTOMER_ID\", \"PRC_TIPO_ID\"]],\n",
    "                             index=\"CUSTOMER_ID\",\n",
    "                             columns=\"PRC_TIPO_ID\",\n",
    "                             aggfunc=len,\n",
    "                             fill_value=0).reset_index()\n",
    "\n",
    "df_products.rename(columns={1: \"N_PREMIUM\",\n",
    "                            3: \"N_BASICO\",\n",
    "                            5: \"N_HARDWARE\"}, inplace=True)"
   ]
  },
  {
   "cell_type": "code",
   "execution_count": 15,
   "metadata": {},
   "outputs": [
    {
     "name": "stdout",
     "output_type": "stream",
     "text": [
      "2020-12-30 18:05:19,766 - aa_engine_pkg.assets.utils.utilities - INFO - Calculating mop\n"
     ]
    }
   ],
   "source": [
    "# Format and calculate mop variables\n",
    "log.info(\"Calculating mop\")\n",
    "format_string_variable(df_tmp=df_clientes, var=\"MOP\")"
   ]
  },
  {
   "cell_type": "code",
   "execution_count": 16,
   "metadata": {},
   "outputs": [
    {
     "data": {
      "text/html": [
       "<div>\n",
       "<style scoped>\n",
       "    .dataframe tbody tr th:only-of-type {\n",
       "        vertical-align: middle;\n",
       "    }\n",
       "\n",
       "    .dataframe tbody tr th {\n",
       "        vertical-align: top;\n",
       "    }\n",
       "\n",
       "    .dataframe thead th {\n",
       "        text-align: right;\n",
       "    }\n",
       "</style>\n",
       "<table border=\"1\" class=\"dataframe\">\n",
       "  <thead>\n",
       "    <tr style=\"text-align: right;\">\n",
       "      <th></th>\n",
       "      <th>DATE_EXP</th>\n",
       "      <th>CUSTOMER_ID</th>\n",
       "      <th>PRC_CODIGO</th>\n",
       "      <th>PRODUCTO</th>\n",
       "      <th>PRC_TIPO_ID</th>\n",
       "      <th>TEC_ID</th>\n",
       "      <th>MOP</th>\n",
       "      <th>TENURE</th>\n",
       "    </tr>\n",
       "  </thead>\n",
       "  <tbody>\n",
       "    <tr>\n",
       "      <th>0</th>\n",
       "      <td>201805</td>\n",
       "      <td>53212468</td>\n",
       "      <td>129</td>\n",
       "      <td>FOX+ High Definition</td>\n",
       "      <td>1</td>\n",
       "      <td>25</td>\n",
       "      <td>INVOICE</td>\n",
       "      <td>10</td>\n",
       "    </tr>\n",
       "    <tr>\n",
       "      <th>1</th>\n",
       "      <td>201805</td>\n",
       "      <td>53212468</td>\n",
       "      <td>130</td>\n",
       "      <td>HBO Max - High Definition</td>\n",
       "      <td>1</td>\n",
       "      <td>25</td>\n",
       "      <td>INVOICE</td>\n",
       "      <td>10</td>\n",
       "    </tr>\n",
       "    <tr>\n",
       "      <th>2</th>\n",
       "      <td>201805</td>\n",
       "      <td>53212468</td>\n",
       "      <td>138</td>\n",
       "      <td>ADULT PACK</td>\n",
       "      <td>1</td>\n",
       "      <td>25</td>\n",
       "      <td>INVOICE</td>\n",
       "      <td>10</td>\n",
       "    </tr>\n",
       "    <tr>\n",
       "      <th>3</th>\n",
       "      <td>201805</td>\n",
       "      <td>53212468</td>\n",
       "      <td>139</td>\n",
       "      <td>ORO</td>\n",
       "      <td>3</td>\n",
       "      <td>25</td>\n",
       "      <td>INVOICE</td>\n",
       "      <td>10</td>\n",
       "    </tr>\n",
       "    <tr>\n",
       "      <th>4</th>\n",
       "      <td>201805</td>\n",
       "      <td>53212468</td>\n",
       "      <td>153</td>\n",
       "      <td>IRD HD ONLY</td>\n",
       "      <td>5</td>\n",
       "      <td>25</td>\n",
       "      <td>INVOICE</td>\n",
       "      <td>None</td>\n",
       "    </tr>\n",
       "  </tbody>\n",
       "</table>\n",
       "</div>"
      ],
      "text/plain": [
       "  DATE_EXP  CUSTOMER_ID  PRC_CODIGO                   PRODUCTO  PRC_TIPO_ID  \\\n",
       "0   201805     53212468         129       FOX+ High Definition            1   \n",
       "1   201805     53212468         130  HBO Max - High Definition            1   \n",
       "2   201805     53212468         138                 ADULT PACK            1   \n",
       "3   201805     53212468         139                        ORO            3   \n",
       "4   201805     53212468         153                IRD HD ONLY            5   \n",
       "\n",
       "   TEC_ID      MOP TENURE  \n",
       "0      25  INVOICE     10  \n",
       "1      25  INVOICE     10  \n",
       "2      25  INVOICE     10  \n",
       "3      25  INVOICE     10  \n",
       "4      25  INVOICE   None  "
      ]
     },
     "execution_count": 16,
     "metadata": {},
     "output_type": "execute_result"
    }
   ],
   "source": [
    "df_clientes.head()"
   ]
  },
  {
   "cell_type": "code",
   "execution_count": 19,
   "metadata": {},
   "outputs": [
    {
     "name": "stdout",
     "output_type": "stream",
     "text": [
      "['DEBITO']\n"
     ]
    }
   ],
   "source": [
    "condlist = [df_clientes.MOP.str.contains(\"BANC\"),\n",
    "            df_clientes.MOP.str.contains(\"TARJETA\"),\n",
    "            df_clientes.MOP.str.contains(\"INVOICE\")                   \n",
    "            ]\n",
    "\n",
    "choicelist = [\"DEBITO\", \"TARJETA\", \"INVOICE\"]\n",
    "\n",
    "df_clientes[\"MOP\"] = np.select(condlist, choicelist, default=\"OTHER\")\n",
    "\n",
    "df_mop = create_dummy_variables(df_clientes,\n",
    "                                vars_to_groupby=[\"CUSTOMER_ID\"],\n",
    "                                var_to_dummy=\"MOP\",\n",
    "                                values=[\"DEBITO\", \"INVOICE\", \"TARJETA\"],\n",
    "                                include_total=False,\n",
    "                                include_subtotal=False)"
   ]
  },
  {
   "cell_type": "code",
   "execution_count": 21,
   "metadata": {},
   "outputs": [
    {
     "name": "stdout",
     "output_type": "stream",
     "text": [
      "2020-12-30 18:11:33,752 - aa_engine_pkg.assets.utils.utilities - INFO - Calculating tenure\n",
      "2020-12-30 18:11:33,842 - aa_engine_pkg.assets.utils.utilities - INFO - Creating product type variables\n"
     ]
    }
   ],
   "source": [
    "# Format numeric vars\n",
    "log.info(\"Calculating tenure\")\n",
    "df_clientes[\"TENURE\"] = df_clientes[\"TENURE\"].astype(float)\n",
    "df_tenure = df_clientes.groupby(\"CUSTOMER_ID\")[\"TENURE\"].agg(np.nanmax).reset_index(name=\"TENURE\")\n",
    "\n",
    "# For non-hardware products, categorization of products\n",
    "log.info(\"Creating product type variables\")\n",
    "products = pd.DataFrame.from_dict(dict_product, orient=\"index\", columns=[\"SUP_PRODUCTO\"]).reset_index()\n",
    "products.rename(columns={\"index\": \"PRC_CODIGO\"}, inplace=True)"
   ]
  },
  {
   "cell_type": "code",
   "execution_count": 22,
   "metadata": {},
   "outputs": [],
   "source": [
    "mask_software = (df_clientes[\"PRC_TIPO_ID\"] != 5)\n",
    "df_clientes = pd.merge(df_clientes.loc[mask_software],\n",
    "                       products,\n",
    "                       on=\"PRC_CODIGO\",\n",
    "                       how=\"left\",\n",
    "                       validate=\"m:1\")\n",
    "df_clientes[\"SUP_PRODUCTO\"].fillna(\"OTHER\", inplace=True)\n",
    "\n",
    "df_product_types = pd.pivot_table(data=df_clientes[[\"CUSTOMER_ID\", \"SUP_PRODUCTO\"]],\n",
    "                                  index=\"CUSTOMER_ID\",\n",
    "                                  columns=\"SUP_PRODUCTO\",\n",
    "                                  aggfunc=len,\n",
    "                                  fill_value=0).reset_index()\n",
    "\n",
    "rename_table(df_product_types,\n",
    "             preffix=\"N\",\n",
    "             ids_to_exclude=id_cols)\n"
   ]
  },
  {
   "cell_type": "code",
   "execution_count": 23,
   "metadata": {},
   "outputs": [
    {
     "name": "stdout",
     "output_type": "stream",
     "text": [
      "2020-12-30 18:15:55,141 - aa_engine_pkg.assets.utils.utilities - INFO - Creating technology variables\n"
     ]
    }
   ],
   "source": [
    "# Creating tech id variables\n",
    "log.info(\"Creating technology variables\")\n",
    "df_clientes[\"TEC_ID\"] = df_clientes[\"TEC_ID\"].astype(str)\n",
    "impute_categories(df_clientes, \"TEC_ID\", [\"10\", \"25\", \"30\"])\n",
    "df_tech_id = pd.pivot_table(data=df_clientes[[\"CUSTOMER_ID\", \"TEC_ID\"]],\n",
    "                            index=\"CUSTOMER_ID\",\n",
    "                            columns=\"TEC_ID\",\n",
    "                            aggfunc=len,\n",
    "                            fill_value=0).reset_index()\n",
    "rename_table(df_tech_id,\n",
    "             preffix=\"N_TECH\",\n",
    "             ids_to_exclude=id_cols)\n",
    "\n",
    "# Merge together all dfs\n",
    "df_list = [df_products, df_mop, df_tenure, df_product_types, df_tech_id]\n",
    "df_clientes_grouped = reduce(\n",
    "    lambda left, right: pd.merge(left, right, on=[\"CUSTOMER_ID\"], how=\"outer\", validate=\"1:1\"), df_list)\n",
    "\n",
    "df_clientes_grouped[\"DATE_EXP\"] = date_exp\n",
    "df_clientes_grouped[\"DATE_CALC\"] = date\n",
    "\n",
    "table_preffix = parameters[\"masters\"][\"eop\"][\"table_preffix\"]\n",
    "rename_table(df_clientes_grouped,\n",
    "             preffix=table_preffix,\n",
    "             ids_to_exclude=id_cols)"
   ]
  },
  {
   "cell_type": "code",
   "execution_count": null,
   "metadata": {},
   "outputs": [],
   "source": [
    "def create_master_eop(eop: SQLPartitionedDataSet,\n",
    "                      cliente_activo: pd.DataFrame,\n",
    "                      parameters: Dict,\n",
    "                      date: str) -> pd.DataFrame:\n",
    "    \"\"\"Creates master table with features related to EoP state of customers for one period of data\n",
    "    Parameters\n",
    "    ----------\n",
    "    cliente_activo:\n",
    "        dataset defined in ``catalog.yml`` with list of active customers at EoP for the given period\n",
    "    eop:\n",
    "        dataset defined in ``catalog.yml`` with raw data information related to EoP customer state\n",
    "    date:\n",
    "        period to process\n",
    "    parameters:\n",
    "        set of project parameters defined in ``parameters.yml``\n",
    "    Returns\n",
    "    -------\n",
    "        Mastertable with information of clientes at EoP\n",
    "    \"\"\"\n",
    "\n",
    "    # Initialize logger\n",
    "    log = initialize_logger()\n",
    "\n",
    "    write_to_parquet = parameters[\"write_to_parquet\"]\n",
    "    table_name = \"eop\"\n",
    "    overwrite = parameters[\"masters\"][table_name][\"overwrite\"]\n",
    "\n",
    "    # Check if table was already created\n",
    "    files = get_mastertable_paths_by_period(parameters=parameters, period=date)\n",
    "    match = [str(file) for file in files if table_name + \"_\" + date in file]\n",
    "\n",
    "    if len(match) > 0 and overwrite is False:\n",
    "        # If table is found, read parquet:\n",
    "        log.info(f\"Reading {match[0]} table\")\n",
    "        df_clientes_grouped = pd.read_parquet(match[0], engine=\"pyarrow\")\n",
    "\n",
    "    else:\n",
    "        # If table is not found, then create it:\n",
    "        log.info(\"Reading table...\")\n",
    "\n",
    "        # Change date format if needed \n",
    "        if len(date) == 8:\n",
    "            date_exp = get_previous_month(date)\n",
    "        else:\n",
    "            date_exp = str(date)\n",
    "\n",
    "        # Load active clientes\n",
    "        log.info(\"Reading table...\")\n",
    "        df_clientes = eop.filter_by_period(date=date_exp).drop_duplicates()\n",
    "        df_clientes_activos = cliente_activo[[\"CUSTOMER_ID\"]]\n",
    "\n",
    "        df_clientes = pd.merge(df_clientes,\n",
    "                               df_clientes_activos,\n",
    "                               on=\"CUSTOMER_ID\",\n",
    "                               how=\"inner\",\n",
    "                               validate=\"m:1\")\n",
    "\n",
    "        # Calculate number of products per customer\n",
    "        log.info(\"Calculating number of products\")\n",
    "        df_products = pd.pivot_table(data=df_clientes[[\"CUSTOMER_ID\", \"PRC_TIPO_ID\"]],\n",
    "                                     index=\"CUSTOMER_ID\",\n",
    "                                     columns=\"PRC_TIPO_ID\",\n",
    "                                     aggfunc=len,\n",
    "                                     fill_value=0).reset_index()\n",
    "\n",
    "        df_products.rename(columns={1: \"N_PREMIUM\",\n",
    "                                    3: \"N_BASICO\",\n",
    "                                    5: \"N_HARDWARE\"}, inplace=True)\n",
    "\n",
    "        # Format and calculate mop variables\n",
    "        log.info(\"Calculating mop\")\n",
    "        format_string_variable(df_tmp=df_clientes, var=\"MOP\")\n",
    "\n",
    "        condlist = [df_clientes.MOP.str.contains(\"BANC\"),\n",
    "                    df_clientes.MOP.str.contains(\"TARJETA\"),\n",
    "                    df_clientes.MOP.str.contains(\"INVOICE\")                   \n",
    "                    ]\n",
    "\n",
    "        choicelist = [\"DEBITO\", \"TARJETA\", \"INVOICE\"]\n",
    "\n",
    "        df_clientes[\"MOP\"] = np.select(condlist, choicelist, default=\"OTHER\")\n",
    "\n",
    "        df_mop = create_dummy_variables(df_clientes,\n",
    "                                        vars_to_groupby=[\"CUSTOMER_ID\"],\n",
    "                                        var_to_dummy=\"MOP\",\n",
    "                                        values=[\"DEBITO\", \"INVOICE\", \"TARJETA\", \"ANTICIPADO\"],\n",
    "                                        include_total=False,\n",
    "                                        include_subtotal=False)\n",
    "\n",
    "        # Format numeric vars\n",
    "        log.info(\"Calculating tenure\")\n",
    "        df_clientes[\"TENURE\"] = df_clientes[\"TENURE\"].astype(float)\n",
    "        df_tenure = df_clientes.groupby(\"CUSTOMER_ID\")[\"TENURE\"].agg(np.nanmax).reset_index(name=\"TENURE\")\n",
    "\n",
    "        # For non-hardware products, categorization of products\n",
    "        log.info(\"Creating product type variables\")\n",
    "        products = pd.DataFrame.from_dict(dict_product, orient=\"index\", columns=[\"SUP_PRODUCTO\"]).reset_index()\n",
    "        products.rename(columns={\"index\": \"PRC_CODIGO\"}, inplace=True)\n",
    "\n",
    "        mask_software = (df_clientes[\"PRC_TIPO_ID\"] != 5)\n",
    "        df_clientes = pd.merge(df_clientes.loc[mask_software],\n",
    "                               products,\n",
    "                               on=\"PRC_CODIGO\",\n",
    "                               how=\"left\",\n",
    "                               validate=\"m:1\")\n",
    "        df_clientes[\"SUP_PRODUCTO\"].fillna(\"OTHER\", inplace=True)\n",
    "\n",
    "        df_product_types = pd.pivot_table(data=df_clientes[[\"CUSTOMER_ID\", \"SUP_PRODUCTO\"]],\n",
    "                                          index=\"CUSTOMER_ID\",\n",
    "                                          columns=\"SUP_PRODUCTO\",\n",
    "                                          aggfunc=len,\n",
    "                                          fill_value=0).reset_index()\n",
    "\n",
    "        rename_table(df_product_types,\n",
    "                     preffix=\"N\",\n",
    "                     ids_to_exclude=id_cols)\n",
    "\n",
    "        # Creating tech id variables\n",
    "        log.info(\"Creating technology variables\")\n",
    "        df_clientes[\"TEC_ID\"] = df_clientes[\"TEC_ID\"].astype(str)\n",
    "        impute_categories(df_clientes, \"TEC_ID\", [\"10\", \"25\", \"30\"])\n",
    "        df_tech_id = pd.pivot_table(data=df_clientes[[\"CUSTOMER_ID\", \"TEC_ID\"]],\n",
    "                                    index=\"CUSTOMER_ID\",\n",
    "                                    columns=\"TEC_ID\",\n",
    "                                    aggfunc=len,\n",
    "                                    fill_value=0).reset_index()\n",
    "        rename_table(df_tech_id,\n",
    "                     preffix=\"N_TECH\",\n",
    "                     ids_to_exclude=id_cols)\n",
    "\n",
    "        # Merge together all dfs\n",
    "        df_list = [df_products, df_mop, df_tenure, df_product_types, df_tech_id]\n",
    "        df_clientes_grouped = reduce(\n",
    "            lambda left, right: pd.merge(left, right, on=[\"CUSTOMER_ID\"], how=\"outer\", validate=\"1:1\"), df_list)\n",
    "\n",
    "        df_clientes_grouped[\"DATE_EXP\"] = date_exp\n",
    "        df_clientes_grouped[\"DATE_CALC\"] = date\n",
    "\n",
    "        table_preffix = parameters[\"masters\"][\"eop\"][\"table_preffix\"]\n",
    "        rename_table(df_clientes_grouped,\n",
    "                     preffix=table_preffix,\n",
    "                     ids_to_exclude=id_cols)\n",
    "\n",
    "        if write_to_parquet:\n",
    "            file = f\"{parameters['paths']['master_path']}master_{table_name}/master_{table_name}_{date}.parquet\"\n",
    "            df_clientes_grouped.to_parquet(file, engine=\"pyarrow\")\n",
    "\n",
    "    log.info(f\"Exporting {df_clientes_grouped.shape[0]} rows and {df_clientes_grouped.shape[1]} columns\")\n",
    "\n",
    "    # Return\n",
    "    return df_clientes_grouped"
   ]
  }
 ],
 "metadata": {
  "kernelspec": {
   "display_name": "Python 3",
   "language": "python",
   "name": "python3"
  },
  "language_info": {
   "codemirror_mode": {
    "name": "ipython",
    "version": 3
   },
   "file_extension": ".py",
   "mimetype": "text/x-python",
   "name": "python",
   "nbconvert_exporter": "python",
   "pygments_lexer": "ipython3",
   "version": "3.7.7"
  }
 },
 "nbformat": 4,
 "nbformat_minor": 4
}
