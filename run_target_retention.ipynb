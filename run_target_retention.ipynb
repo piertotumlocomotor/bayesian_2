{
 "cells": [
  {
   "cell_type": "code",
   "execution_count": 50,
   "metadata": {},
   "outputs": [],
   "source": [
    "# Load kedro environment (not needed in .py)\n",
    "from pathlib import Path\n",
    "from kedro.framework.context import load_context\n",
    "\n",
    "# Load a context to be able to work in the notebook\n",
    "#current_dir = Path.cwd()\n",
    "current_dir = Path(\"/u01/share/cesar/actuals_repos/aa_engine_uy/notebooks_uy/\")\n",
    "proj_path = current_dir.parent\n",
    "context = load_context(proj_path)\n",
    "catalog = context.catalog\n",
    "credentials = context.config_loader.get(\"credentials*\",\"credentials*/**\")\n",
    "parameters = context.config_loader.get(\"parameters*\",\"parameters*/**\")\n",
    "from aa_engine_pkg.assets.utils import *\n",
    "from aa_engine_pkg.assets.core.data.kedro.catalog_expansion.partitioned_sql import SQLPartitionedDataSet\n",
    "from aa_engine_pkg.pipelines.data_engineering.targets.nodes.master_target_retention import create_target_retention"
   ]
  },
  {
   "cell_type": "code",
   "execution_count": 51,
   "metadata": {},
   "outputs": [],
   "source": [
    "date='20210614'"
   ]
  },
  {
   "cell_type": "code",
   "execution_count": 52,
   "metadata": {},
   "outputs": [
    {
     "name": "stdout",
     "output_type": "stream",
     "text": [
      "2021-06-14 12:30:47,542 - kedro.io.data_catalog - INFO - Loading data from `intencion_baja` (SQLPartitionedDataSet)...\n",
      "2021-06-14 12:30:47,544 - kedro.io.data_catalog - INFO - Loading data from `churn` (SQLPartitionedDataSet)...\n",
      "2021-06-14 12:30:47,545 - kedro.io.data_catalog - INFO - Loading data from `cliente_activo` (SQLPartitionedDataSet)...\n"
     ]
    }
   ],
   "source": [
    "intencion_baja=catalog.load('intencion_baja')\n",
    "churn=catalog.load(\"churn\")\n",
    "cliente_activo=catalog.load(\"cliente_activo\")"
   ]
  },
  {
   "cell_type": "code",
   "execution_count": 53,
   "metadata": {},
   "outputs": [],
   "source": [
    "def create_cliente_activo(cliente_activo: SQLPartitionedDataSet,\n",
    "                          date: str) -> pd.DataFrame:\n",
    "    \"\"\"Creates master table with features related to EoP state of customers for one period of data\n",
    "\n",
    "    Parameters\n",
    "    ----------\n",
    "    cliente_activo:\n",
    "        dataset defined in ´catalog.yml´ - list of active customers at EoP for the given period\n",
    "    date:\n",
    "        period to process\n",
    "    \n",
    "    Returns\n",
    "    -------\n",
    "        Mastertable with information of clientes at EoP\n",
    "    \"\"\"\n",
    "\n",
    "    # Initialize logger\n",
    "    log = initialize_logger()\n",
    "\n",
    "    # Load active clientes for period\n",
    "    log.info(f\"Creating cliente_activo...\")\n",
    "    period_to_load = get_previous_month(date)\n",
    "    df_clientes_activos = cliente_activo.filter_by(date=period_to_load)\n",
    "\n",
    "    # Return\n",
    "    return df_clientes_activos"
   ]
  },
  {
   "cell_type": "code",
   "execution_count": 59,
   "metadata": {},
   "outputs": [
    {
     "name": "stdout",
     "output_type": "stream",
     "text": [
      "20210517\n"
     ]
    }
   ],
   "source": [
    "period_to_load = get_previous_month(date)\n",
    "past_date =(pd.to_datetime(date) - timedelta(days=28)).strftime(\"%Y%m%d\")\n",
    "print(past_date)"
   ]
  },
  {
   "cell_type": "code",
   "execution_count": 49,
   "metadata": {},
   "outputs": [
    {
     "name": "stdout",
     "output_type": "stream",
     "text": [
      "select distinct CUSTOMER_ID from stg_uy_eop_customer where PRC_TIPO_ID = 3 and DATE_EXP = 202105\n",
      "2021-06-14 12:29:38,860 - aa_engine_pkg.assets.utils.utilities - INFO - Cannot create upsell target for 20210517: Not enough future information\n"
     ]
    }
   ],
   "source": [
    "parameters[\"targets\"][\"target_xsell\"][\n",
    "                \"activation_window\"] = 0  # Sales in the past month, without 3M continuity\n",
    "df_clientes_activos = cliente_activo.filter_by(date=period_to_load)\n",
    "df_target = create_target_retention(intencion_baja=intencion_baja,\n",
    "                                    churn=churn,\n",
    "                                    cliente_activo=df_clientes_activos,\n",
    "                                    date=past_date,  # starting 28 days ago\n",
    "                                    parameters=parameters)\n",
    "\n",
    "#df_target = df_target.groupby([\"DATE_CALC\", \"CUSTOMER_ID\"])[\"TARGET\"].max().reset_index()"
   ]
  },
  {
   "cell_type": "code",
   "execution_count": 26,
   "metadata": {},
   "outputs": [
    {
     "ename": "AttributeError",
     "evalue": "'NoneType' object has no attribute 'groupby'",
     "output_type": "error",
     "traceback": [
      "\u001b[0;31m---------------------------------------------------------------------------\u001b[0m",
      "\u001b[0;31mAttributeError\u001b[0m                            Traceback (most recent call last)",
      "\u001b[0;32m<ipython-input-26-993622339329>\u001b[0m in \u001b[0;36m<module>\u001b[0;34m\u001b[0m\n\u001b[0;32m----> 1\u001b[0;31m \u001b[0mdf_target\u001b[0m\u001b[0;34m.\u001b[0m\u001b[0mgroupby\u001b[0m\u001b[0;34m(\u001b[0m\u001b[0;34m[\u001b[0m\u001b[0;34m\"DATE_CALC\"\u001b[0m\u001b[0;34m,\u001b[0m \u001b[0;34m\"CUSTOMER_ID\"\u001b[0m\u001b[0;34m]\u001b[0m\u001b[0;34m)\u001b[0m\u001b[0;34m[\u001b[0m\u001b[0;34m\"TARGET\"\u001b[0m\u001b[0;34m]\u001b[0m\u001b[0;34m.\u001b[0m\u001b[0mmax\u001b[0m\u001b[0;34m(\u001b[0m\u001b[0;34m)\u001b[0m\u001b[0;34m.\u001b[0m\u001b[0mreset_index\u001b[0m\u001b[0;34m(\u001b[0m\u001b[0;34m)\u001b[0m\u001b[0;34m\u001b[0m\u001b[0;34m\u001b[0m\u001b[0m\n\u001b[0m",
      "\u001b[0;31mAttributeError\u001b[0m: 'NoneType' object has no attribute 'groupby'"
     ]
    }
   ],
   "source": [
    "df_target.groupby([\"DATE_CALC\", \"CUSTOMER_ID\"])[\"TARGET\"].max().reset_index()"
   ]
  },
  {
   "cell_type": "code",
   "execution_count": 61,
   "metadata": {},
   "outputs": [],
   "source": [
    "table_name = \"target_retention\"\n",
    "write_to_parquet = parameters[\"write_to_parquet\"]\n",
    "overwrite = parameters[\"targets\"][table_name][\"overwrite\"]\n",
    "start_date = past_date\n",
    "end_date = str(parameters[\"end_date\"])\n",
    "\n",
    "# Check if target can be created (date + max window < end_date)\n",
    "\n",
    "target_parameters = parameters[\"targets\"][table_name]\n",
    "max_window = max([target_parameters[x] for x in target_parameters.keys() if x.endswith(\"window\")])\n",
    "upper_bound = (pd.to_datetime(past_date) + timedelta(days=max_window)).strftime(\"%Y%m%d\")\n",
    "#previous_sunday = dt.today() - timedelta(days=dt.today().weekday()+1)\n",
    "date_today = dt.today()\n"
   ]
  },
  {
   "cell_type": "code",
   "execution_count": 62,
   "metadata": {},
   "outputs": [
    {
     "data": {
      "text/plain": [
       "28"
      ]
     },
     "execution_count": 62,
     "metadata": {},
     "output_type": "execute_result"
    }
   ],
   "source": [
    "max_window"
   ]
  },
  {
   "cell_type": "code",
   "execution_count": 64,
   "metadata": {},
   "outputs": [
    {
     "ename": "TypeError",
     "evalue": "'>' not supported between instances of 'datetime.date' and 'str'",
     "output_type": "error",
     "traceback": [
      "\u001b[0;31m---------------------------------------------------------------------------\u001b[0m",
      "\u001b[0;31mTypeError\u001b[0m                                 Traceback (most recent call last)",
      "\u001b[0;32m<ipython-input-64-1a5b5f1e46e9>\u001b[0m in \u001b[0;36m<module>\u001b[0;34m\u001b[0m\n\u001b[0;32m----> 1\u001b[0;31m \u001b[0mprint\u001b[0m\u001b[0;34m(\u001b[0m\u001b[0mdate_today\u001b[0m \u001b[0;34m>\u001b[0m \u001b[0mupper_bound\u001b[0m\u001b[0;34m)\u001b[0m\u001b[0;34m\u001b[0m\u001b[0;34m\u001b[0m\u001b[0m\n\u001b[0m",
      "\u001b[0;31mTypeError\u001b[0m: '>' not supported between instances of 'datetime.date' and 'str'"
     ]
    }
   ],
   "source": [
    "print(date_today > upper_bound)"
   ]
  },
  {
   "cell_type": "code",
   "execution_count": 18,
   "metadata": {},
   "outputs": [
    {
     "name": "stdout",
     "output_type": "stream",
     "text": [
      "2021-06-14 12:12:10,696 - aa_engine_pkg.assets.utils.utilities - INFO - [SCORE_MODEL] Scoring retention for 20200928...\n",
      "2021-06-14 12:12:10,698 - aa_engine_pkg.assets.utils.utilities - INFO - Loading 20200928\n",
      "['CAM_OFERTA_COMBINADA_UPGR_BASICO_nansum_14', 'CAM_OFERTA_COMBINADA_RENT_OTROS_nansum_21', 'CAM_OFERTA_COMBINADA_UPGR_BASICO_nansum_252', 'EVE_CAT_COMBINED_123_1_nansum_21', 'EVE_CAT_COMBINED_123_1_nansum_252', 'EVE_CAT_COMBINED_123_1_nansum_168', 'CAM_OFERTA_COMBINADA_RENT_OTROS_nansum_14', 'EVE_CAT_COMBINED_100133_1_nansum_21', 'CAM_OFERTA_COMBINADA_UPGR_BASICO_nansum_336', 'CAM_OFERTA_COMBINADA_UPGR_BASICO_nansum_168', 'EVE_CAT_COMBINED_123_1_nansum_336', 'EVE_CAT_COMBINED_100133_1_nansum_252', 'EVE_CAT_COMBINED_100133_1_nansum_14', 'EVE_CAT_COMBINED_100133_1_nansum_84', 'CAM_OFERTA_COMBINADA_UPGR_BASICO_nansum_21', 'CAM_OFERTA_COMBINADA_RENT_OTROS_nansum_168', 'EVE_CAT_COMBINED_100133_1_nansum_28', 'MAN_ESTADOWO_ID_AG_nansum_14', 'EVE_CAT_COMBINED_123_1_nansum_84', 'MAN_ESTADOWO_ID_AG_nansum_28', 'CAM_OFERTA_COMBINADA_UPGR_BASICO_nansum_28', 'CAM_OFERTA_COMBINADA_RENT_OTROS_nansum_84', 'CAM_OFERTA_COMBINADA_RENT_OTROS_nansum_336', 'EVE_CAT_COMBINED_100133_1_nansum_168', 'EVE_CAT_COMBINED_123_1_nansum_28', 'MAN_ESTADOWO_ID_AG_nansum_168', 'MAN_ESTADOWO_ID_AG_nansum_84', 'CAM_OFERTA_COMBINADA_RENT_OTROS_nansum_252', 'CAM_OFERTA_COMBINADA_RENT_OTROS_nansum_28', 'EVE_CAT_COMBINED_123_1_nansum_14', 'CAM_OFERTA_COMBINADA_UPGR_BASICO_nansum_84', 'EVE_CAT_COMBINED_100133_1_nansum_336'] not found in df\n",
      "2021-06-14 12:12:11,240 - aa_engine_pkg.assets.utils.utilities - INFO - Analyzing data quality of top 20 features...\n",
      "2021-06-14 12:12:12,114 - aa_engine_pkg.assets.utils.utilities - INFO - Scoring...\n",
      "2021-06-14 12:12:13,820 - numexpr.utils - INFO - Note: NumExpr detected 32 cores but \"NUMEXPR_MAX_THREADS\" not set, so enforcing safe limit of 8.\n",
      "2021-06-14 12:12:13,821 - numexpr.utils - INFO - NumExpr defaulting to 8 threads.\n",
      "2021-06-14 12:12:14,478 - aa_engine_pkg.assets.utils.utilities - INFO - Analyzing score distribution...\n"
     ]
    },
    {
     "data": {
      "image/png": "[encoded data removed]",
      "text/plain": [
       "<Figure size 432x288 with 1 Axes>"
      ]
     },
     "metadata": {
      "needs_background": "light"
     },
     "output_type": "display_data"
    },
    {
     "name": "stdout",
     "output_type": "stream",
     "text": [
      "2021-06-14 12:12:15,008 - aa_engine_pkg.assets.utils.utilities - INFO - Comparing score against previous one...\n"
     ]
    },
    {
     "name": "stderr",
     "output_type": "stream",
     "text": [
      "/u01/miniconda3/envs/copo37/lib/python3.7/site-packages/numpy/lib/histograms.py:403: RuntimeWarning: invalid value encountered in greater_equal\n",
      "  keep = (a >= first_edge)\n",
      "/u01/miniconda3/envs/copo37/lib/python3.7/site-packages/numpy/lib/histograms.py:404: RuntimeWarning: invalid value encountered in less_equal\n",
      "  keep &= (a <= last_edge)\n",
      "/u01/miniconda3/envs/copo37/lib/python3.7/site-packages/numpy/lib/histograms.py:839: RuntimeWarning: invalid value encountered in greater_equal\n",
      "  keep = (tmp_a >= first_edge)\n",
      "/u01/miniconda3/envs/copo37/lib/python3.7/site-packages/numpy/lib/histograms.py:840: RuntimeWarning: invalid value encountered in less_equal\n",
      "  keep &= (tmp_a <= last_edge)\n"
     ]
    },
    {
     "data": {
      "image/png": "[encoded data removed]",
      "text/plain": [
       "<Figure size 432x288 with 1 Axes>"
      ]
     },
     "metadata": {
      "needs_background": "light"
     },
     "output_type": "display_data"
    },
    {
     "name": "stdout",
     "output_type": "stream",
     "text": [
      "2021-06-14 12:12:16,780 - aa_engine_pkg.assets.utils.utilities - INFO - Calculating performance within past 28 days...\n",
      "select distinct CUSTOMER_ID from stg_uy_eop_customer where PRC_TIPO_ID = 3 and DATE_EXP = 202008\n"
     ]
    },
    {
     "name": "stderr",
     "output_type": "stream",
     "text": [
      "/u01/miniconda3/envs/copo37/lib/python3.7/site-packages/sqlalchemy/dialects/oracle/base.py:1381: SAWarning: Oracle version (19, 5, 0, 0, 0) is known to have a maximum identifier length of 128, rather than the historical default of 30. SQLAlchemy 1.4 will use 128 for this database; please set max_identifier_length=128 in create_engine() in order to test the application with this new length, or set to 30 in order to assure that 30 continues to be used.  In particular, pay close attention to the behavior of database migrations as dynamically generated names may change. See the section 'Max Identifier Lengths' in the SQLAlchemy Oracle dialect documentation for background.\n",
      "  % ((self.server_version_info,))\n"
     ]
    },
    {
     "name": "stdout",
     "output_type": "stream",
     "text": [
      "select * from stg_uy_intencion_baja where FECHA > to_date('20200831235900', 'yyyymmddhh24miss') and FECHA <= to_date('20200928235900', 'yyyymmddhh24miss')\n",
      "select CUSTOMER_ID, trunc(FECHA) FECHA from stg_uy_plan_evento where PROD_CATEGORY_ID = 3 and EVENTO_ID in (100142,142) and FECHA > to_date('20200831235900', 'yyyymmddhh24miss') and FECHA <= to_date('20200928235900', 'yyyymmddhh24miss')\n",
      "(8115, 4)\n",
      "2021-06-14 12:12:23,847 - aa_engine_pkg.assets.utils.utilities - INFO - Exporting target for period 20200831 and rate 20.57%\n",
      "2021-06-14 12:12:23,855 - aa_engine_pkg.assets.utils.utilities - INFO - Loading score to check performance...\n",
      "2021-06-14 12:12:23,971 - aa_engine_pkg.assets.utils.utilities - INFO - Calculating uplift...\n",
      "2021-06-14 12:12:24,000 - aa_engine_pkg.assets.utils.utilities - INFO - Calculating AUC...\n",
      "2021-06-14 12:12:24,104 - aa_engine_pkg.assets.utils.utilities - INFO - Real AUC for past 28 days is: 0.73\n"
     ]
    },
    {
     "data": {
      "text/plain": [
       "True"
      ]
     },
     "execution_count": 18,
     "metadata": {},
     "output_type": "execute_result"
    }
   ],
   "source": [
    "retention_score(True,intencion_baja=intencion_baja,churn=churn,\n",
    "                    cliente_activo=cliente_activo,\n",
    "                    parameters = parameters)"
   ]
  },
  {
   "cell_type": "code",
   "execution_count": 17,
   "metadata": {},
   "outputs": [],
   "source": [
    "def retention_score(start,\n",
    "                    intencion_baja: SQLPartitionedDataSet,\n",
    "                    churn: SQLPartitionedDataSet,\n",
    "                    cliente_activo: SQLPartitionedDataSet,\n",
    "                    parameters: Union[Dict, None]):\n",
    "    \"\"\"Wrapper of score function for retention model\n",
    "    Parameters\n",
    "    ----------\n",
    "    start:\n",
    "        flag that starts scoring process after mastertable is ready\n",
    "    intencion_baja:\n",
    "        dataset defined in ``catalog_raw.yml`` with raw data information related to customers calling to cancel the\n",
    "        service\n",
    "    churn:\n",
    "        dataset defined in ``catalog_raw.yml`` with raw data information related to customers requesting cancellation of\n",
    "        the programming service\n",
    "    cliente_activo:\n",
    "        dataset defined in ``catalog_raw.yml`` with raw data information related to active clients at EoP\n",
    "    parameters:\n",
    "        set of project parameters defined in ``parameters.yml``\n",
    "\n",
    "    Returns\n",
    "    -------\n",
    "        None\n",
    "    \"\"\"\n",
    "    if start:\n",
    "        score(parameters=parameters,\n",
    "              model=\"retention\",\n",
    "              model_type=\"binary\",\n",
    "              intencion_baja=intencion_baja,\n",
    "              churn=churn,\n",
    "              cliente_activo=cliente_activo)\n",
    "        \n",
    "    return True"
   ]
  },
  {
   "cell_type": "code",
   "execution_count": 14,
   "metadata": {},
   "outputs": [],
   "source": [
    "from aa_engine_pkg.pipelines.data_engineering.targets.nodes.master_target_retention import create_target_retention\n",
    "\n",
    "def score(parameters: Union[Dict, None],\n",
    "          model: str,\n",
    "          model_type=\"\",\n",
    "          activaciones_premium=None,\n",
    "          reconexiones_basicos=None,\n",
    "          cancelaciones_premium=None,\n",
    "          plan_evento=None,\n",
    "          intencion_baja=None,\n",
    "          churn=None,\n",
    "          intencion_baja_net=None,\n",
    "          churn_net=None,\n",
    "          eop_net=None,\n",
    "          eop=None,\n",
    "          upgrades_basicos=None,\n",
    "          cliente_activo=None,\n",
    "          agenda_baja = None,\n",
    "          borrado_agenda = None,\n",
    "          cliente_no_activo = None):\n",
    "    \"\"\"Function to takes care of scoring the customer base, including:\n",
    "        1. Data quality check of the top 20% features of the model, checking mean value and NaN percentage\n",
    "        2. Post-scoring distribution analysis: histogram of the distribution of scores\n",
    "        3. Post-scoring residual score distribution analysis: histogram of the difference of scores between current and\n",
    "    previous score\n",
    "        4. 28-day-back performance analysis: calculates real AUC and lift for the model using score of 28 days back in\n",
    "    history\n",
    "    All analysis outputs are stored in ``/data/uy_po/score/<model>/<yyyymmdd>/`` path within the virtual machine.\n",
    "    Parameters\n",
    "    ----------\n",
    "    parameters:\n",
    "        set of project parameters defined in ``parameters.yml``\n",
    "    model:\n",
    "        model to create scoring of\n",
    "    model_type:\n",
    "        type of model to create scoring of (e.g., binary)\n",
    "    activaciones_premium:\n",
    "        dataset defined in ``catalog_raw.yml`` with raw data information related to new activations of the set of\n",
    "        Premium products defined above\n",
    "    reconexiones_basicos:\n",
    "        dataset defined in ``catalog_raw.yml`` with raw data information related to reconnections of programming\n",
    "        services after a disconnection due to payment defaults\n",
    "    cancelaciones_premium:\n",
    "        dataset defined in ``catalog_raw.yml`` with raw data information related to product cancelations of the set of\n",
    "        Premium products defined above\n",
    "    intencion_baja:\n",
    "        dataset defined in ``catalog_raw.yml`` with raw data information related to customers calling to cancel the\n",
    "        service\n",
    "    churn:\n",
    "        dataset defined in ``catalog_raw.yml`` with raw data information related to customers requesting cancellation of\n",
    "        the programming service\n",
    "    intencion_baja_net:\n",
    "        dataset defined in ``catalog_raw.yml`` with raw data information related to customers calling to cancel internet\n",
    "        service\n",
    "    churn_net:\n",
    "        dataset defined in ``catalog_raw.yml`` with raw data information related to customers requesting cancellation of\n",
    "        the internet service\n",
    "    eop_net:\n",
    "        dataset defined in ``catalog_raw.yml`` with raw data information related to active Internet clients at EoP\n",
    "    upgrades_basicos:\n",
    "        dataset defined in ``catalog_raw.yml`` with raw data information related to 108, 107, 133 and 142 events.\n",
    "    eop:\n",
    "        dataset defined in ``catalog_raw.yml`` with raw data information related to clients at EoP\n",
    "    cliente_activo:\n",
    "        dataset defined in ``catalog_raw.yml`` with raw data information related to active clients at EoP\n",
    "    Returns\n",
    "    -------\n",
    "    None\n",
    "    \"\"\"\n",
    "\n",
    "    # Initialize logger\n",
    "    log = initialize_logger()\n",
    "\n",
    "    # Load model\n",
    "    model_path = parameters[\"paths\"][\"model_path\"]\n",
    "    score_period = str(parameters[\"scoring_period\"])\n",
    "    period_vars = parameters[\"models\"][model][model_type][\"period_vars\"]\n",
    "\n",
    "    # Paths to load pre-trained model\n",
    "    model_format = parameters[\"models\"][model][model_type][\"model_to_load\"]\n",
    "    model_folder = model_path + model_format + f\"_{model}_{model_type}_model/\"\n",
    "\n",
    "    # Paths to save new score\n",
    "    save_folder = parameters[\"paths\"][\"score_path\"] + f\"score_{model}/{score_period}/\"\n",
    "    save_format = score_period\n",
    "\n",
    "    period_to_load = get_previous_month(score_period)\n",
    "\n",
    "    lgbmodel = lgbm.Booster(model_file=model_folder + model_format + \".txt\")\n",
    "    log.info(f\"[SCORE_MODEL] Scoring {model} for {score_period}...\")\n",
    "\n",
    "    # Load mastertable\n",
    "    df_score = load_and_merge_tables(model=model,\n",
    "                                     model_type=model_type,\n",
    "                                     periods=[score_period],\n",
    "                                     parameters=parameters,\n",
    "                                     load_subsample=False,  # we want to score entire population\n",
    "                                     load_target=False)\n",
    "    \n",
    "    if model == \"wb\":\n",
    "        schedule_window = parameters[\"targets\"][\"target_wb\"][\"target_window\"]\n",
    "        start_date_scheduled = (pd.to_datetime(score_period) - timedelta(days=schedule_window)).strftime(\"%Y%m%d\")\n",
    "        schedules = agenda_baja.filter_by(date = [start_date_scheduled, score_period], target = False)\n",
    "        df_score = df_score.join(schedules, on = \"CUSTOMER_ID\", how = \"left\", rsuffix = \"_schedule\").reset_index(drop = False)\n",
    "        df_score[\"AGENDA_DAYS_AFTER_SCHEDULE\"] = (pd.to_datetime(score_period) - df_score.FECHA)/np.timedelta64(1,\"D\")\n",
    "        df_score['AGENDA_DAY_OF_SCHEDULE'] = df_score.FECHA.apply(lambda x: x.day)\n",
    "        df_score.drop(columns = [\"FECHA\"])\n",
    "\n",
    "    # Select model variables\n",
    "    fill_na_with = np.nan\n",
    "    vars_to_model = lgbmodel.feature_name()  # get features used in model training\n",
    "    df_score = add_selected_variables(df_score, vars_to_model, fill_na_with)\n",
    "\n",
    "    log.info(f\"Analyzing data quality of top 20 features...\")\n",
    "    # Read important variables of pre-trained model\n",
    "    imp_vars_file = model_folder + model_format + \"_important_variables.csv\"\n",
    "    df_vars_20 = pd.read_csv(imp_vars_file, index_col=0, nrows=20, sep=\";\", decimal=\",\")\n",
    "\n",
    "    important_vars = df_vars_20[\"column\"].unique().tolist() + period_vars\n",
    "\n",
    "    df = df_score[important_vars]  # Analyze current values of top20 variables\n",
    "\n",
    "    if not os.path.exists(save_folder):\n",
    "        os.makedirs(save_folder, exist_ok=True)\n",
    "\n",
    "    # Create mean by score period for the 20 most important variables\n",
    "    df1 = df.groupby(period_vars).agg(np.nanmean).T.reset_index().rename(columns={\"index\": \"column\"})\n",
    "    new_cols = ['column', str(parameters[\"scoring_period\"])]\n",
    "    df1.columns = new_cols\n",
    "    mean_vars_file = model_folder + model_format + \"_mean_evolution.csv\"\n",
    "\n",
    "    # Add current mean values\n",
    "    df_mean_evo = pd.read_csv(mean_vars_file, index_col=0, nrows=20, sep=\";\", decimal=\",\")\n",
    "    df_mean_evo = df_mean_evo.merge(df1, on=\"column\", how=\"left\", validate=\"1:1\")\n",
    "    df_mean_evo.to_csv(save_folder + save_format + f\"_{model}_mean_evolution.csv\", sep=\";\", decimal=\",\", index=False)\n",
    "\n",
    "    # Create NaN proportion by score period for the 20 most important variables\n",
    "    df2 = df.groupby(period_vars).agg(lambda x: x.isnull().sum() / len(x)).T.reset_index().rename(\n",
    "        columns={\"index\": \"column\"})\n",
    "    new_cols = ['column', str(parameters[\"scoring_period\"])]\n",
    "    df2.columns = new_cols\n",
    "    nan_vars_file = model_folder + model_format + \"_nan_evolution.csv\"\n",
    "\n",
    "    # Add current NaN values\n",
    "    df_nan_evo = pd.read_csv(nan_vars_file, index_col=0, nrows=20, sep=\";\", decimal=\",\")\n",
    "    df_nan_evo = df_nan_evo.merge(df2, on=\"column\", how=\"left\", validate=\"1:1\")\n",
    "    df_nan_evo.to_csv(save_folder + save_format + f\"_{model}_nan_evolution.csv\", sep=\";\", decimal=\",\", index=False)\n",
    "\n",
    "    import gc\n",
    "    del df, df1, df2;\n",
    "    gc.collect()\n",
    "\n",
    "    log.info(f\"Scoring...\")\n",
    "    # Predict\n",
    "    score_var = \"SCORE\"\n",
    "    df_score.loc[:, score_var] = lgbmodel.predict(df_score[vars_to_model])\n",
    "    df_score.loc[:, score_var] = df_score[score_var] * 100\n",
    "\n",
    "    # Save score\n",
    "    # Calculate decil\n",
    "    df_export = df_score[[\"CUSTOMER_ID\", \"SCORE\"]].copy()\n",
    "    df_export.loc[:, \"DECIL\"] = pd.qcut(df_export[\"SCORE\"], 10, labels=sorted(np.arange(1, 11), reverse=True),\n",
    "                                        precision=5)\n",
    "    df_export.to_csv(save_folder + save_format + f\"_{model}_score.csv\",\n",
    "                     sep=\";\",\n",
    "                     decimal=\",\",\n",
    "                     index=False)\n",
    "\n",
    "    log.info(f\"Analyzing score distribution...\")\n",
    "    file = save_folder + save_format + f\"_{model}_score_distribution\"\n",
    "    export_score_dist_plot(df=df_score, score_var=score_var, file=file + \".png\")\n",
    "\n",
    "    # Get previous score\n",
    "    max_window = parameters[\"targets\"][f\"target_{model}\"][\"calculation_window\"]\n",
    "    prev_score = (pd.to_datetime(score_period) - timedelta(days=max_window)).strftime(\"%Y%m%d\")\n",
    "    #prev_score_file = f\"{0}{1}_{2}_score.csv\".format(re.sub(r\"(\\d+)\", prev_score, save_folder), prev_score, model)\n",
    "    prev_score_file = \"{0}output_{1}/{2}_{1}_score.csv\".format(parameters[\"paths\"][\"output_path\"], model, prev_score)\n",
    "\n",
    "    if os.path.isfile(prev_score_file):\n",
    "        log.info(f\"Comparing score against previous one...\")\n",
    "        # Load score\n",
    "        df_score_prev = pd.read_csv(prev_score_file, sep=\";\", decimal=\",\")\n",
    "        df_score_prev.rename(columns={\"SCORE\": \"LAST_SCORE\"}, inplace=True)\n",
    "\n",
    "        # Join scores\n",
    "        df_score_joined = pd.merge(df_export,\n",
    "                                   df_score_prev[[\"CUSTOMER_ID\", \"LAST_SCORE\"]],\n",
    "                                   on=\"CUSTOMER_ID\",\n",
    "                                   how=\"left\",\n",
    "                                   validate=\"1:1\")\n",
    "\n",
    "        # Analyze residual distribution\n",
    "        df_score_joined[\"SCORE_DIFF\"] = df_score_joined[\"SCORE\"] - df_score_joined[\"LAST_SCORE\"]\n",
    "\n",
    "        file = save_folder + save_format + f\"_{model}_score_residual_distribution\"\n",
    "        export_score_dist_plot(df=df_score_joined, score_var=\"SCORE_DIFF\", file=file + \".png\")\n",
    "    else:\n",
    "        log.info(\"There is no previous score\")\n",
    "\n",
    "    past_date = (pd.to_datetime(score_period) - timedelta(days=28)).strftime(\"%Y%m%d\")\n",
    "    prev_28_score_file = re.sub(r\"(\\d+)\", past_date, prev_score_file)\n",
    "\n",
    "    if os.path.isfile(prev_28_score_file):\n",
    "        log.info(\"Calculating performance within past 28 days...\")\n",
    "\n",
    "        if model == \"xsell\":\n",
    "\n",
    "            # Set parameters to calculate target for the period\n",
    "            parameters[\"targets\"][\"target_retention\"][\n",
    "                \"activation_window\"] = 0  # Sales in the past month, without 3M continuity\n",
    "            df_clientes_activos = cliente_activo.filter_by(date=period_to_load)\n",
    "\n",
    "            df_target = create_target_xsell(activaciones_premium=activaciones_premium,\n",
    "                                            reconexiones_basicos=reconexiones_basicos,\n",
    "                                            cancelaciones_premium=cancelaciones_premium,\n",
    "                                            cliente_activo=df_clientes_activos,\n",
    "                                            date=past_date,  # starting 28 days ago\n",
    "                                            parameters=parameters)\n",
    "\n",
    "            df_target = df_target.groupby([\"DATE_CALC\", \"CUSTOMER_ID\"])[\"TARGET\"].max().reset_index()\n",
    "        \n",
    "        elif model == \"upsell\":\n",
    "\n",
    "            # Set parameters to calculate target for the period\n",
    "            parameters[\"targets\"][\"target_upsell\"][\n",
    "                \"activation_window\"] = 0  # Sales in the past month, without 3M continuity\n",
    "\n",
    "            df_target = create_target_upsell(upgrades_basicos=upgrades_basicos,\n",
    "                                             eop=eop,\n",
    "                                             cliente_activo=cliente_activo,\n",
    "                                             parameters=parameters,\n",
    "                                             date=past_date)\n",
    "\n",
    "            df_target = df_target.groupby([\"DATE_CALC\", \"CUSTOMER_ID\"])[\"TARGET\"].max().reset_index()\n",
    "            \n",
    "        elif model == \"retention\":\n",
    "\n",
    "            df_clientes_activos = cliente_activo.filter_by(date=period_to_load)\n",
    "\n",
    "            df_target = create_target_retention(intencion_baja=intencion_baja,\n",
    "                                                churn=churn,\n",
    "                                                cliente_activo=df_clientes_activos,\n",
    "                                                date=past_date,  # starting 28 days ago\n",
    "                                                parameters=parameters)\n",
    "\n",
    "            df_target = df_target.groupby([\"DATE_CALC\", \"CUSTOMER_ID\"])[\"TARGET\"].max().reset_index()\n",
    "            \n",
    "        elif model == \"wb\":\n",
    "\n",
    "            df_target = create_target_wb(agenda_baja=agenda_baja,\n",
    "                                                borrado_agenda=borrado_agenda,\n",
    "                                                cliente_no_activo=cliente_no_activo,\n",
    "                                                parameters=parameters,\n",
    "                                                date=past_date)\n",
    "\n",
    "            df_target = df_target.groupby([\"DATE_CALC\", \"CUSTOMER_ID\"])[\"TARGET\"].max().reset_index()\n",
    "\n",
    "        else:\n",
    "            raise ValueError(\"Parameter model must be any of: 'xsell','upsell','retention','wb'\")\n",
    "\n",
    "        log.info(\"Loading score to check performance...\")\n",
    "        # Load scoring of 28 days ago\n",
    "        df_score_28 = pd.read_csv(prev_28_score_file, sep=\";\", decimal=\",\")\n",
    "\n",
    "        # Merge with real sales to analyze AUC and Uplift\n",
    "        df_score_28 = pd.merge(df_score_28,\n",
    "                               df_target[[\"CUSTOMER_ID\", \"TARGET\"]],\n",
    "                               on=\"CUSTOMER_ID\",\n",
    "                               how=\"left\",\n",
    "                               validate=\"1:1\")\n",
    "\n",
    "        mask_target_notna = df_score_28[\"TARGET\"].notna()\n",
    "        log.info(\"Calculating uplift...\")\n",
    "        # Calculate uplift by decile group\n",
    "        uplift = get_uplift(df_score_28.loc[mask_target_notna, \"TARGET\"],\n",
    "                            df_score_28.loc[mask_target_notna, \"SCORE\"],\n",
    "                            N=10)\n",
    "        file = save_folder + save_format + f\"_{model}_uplift.csv\"\n",
    "        uplift.to_csv(file,\n",
    "                      sep=\";\",\n",
    "                      decimal=\",\",\n",
    "                      index=False)\n",
    "\n",
    "        log.info(\"Calculating AUC...\")\n",
    "        # Calculate real ROC curve and AUC\n",
    "        file = save_folder + save_format + f\"_{model}_roc_real\"\n",
    "        roc = roc_to_img(df_score_28.loc[mask_target_notna, \"TARGET\"],\n",
    "                         df_score_28.loc[mask_target_notna, \"SCORE\"],\n",
    "                         file + \".png\")\n",
    "        df_auc = pd.DataFrame({\"model\": model, \"auc\": roc}, index = {0}) \n",
    "        file = save_folder + save_format + f\"_{model}_auc.csv\"\n",
    "        df_auc.to_csv(file, sep=\";\",decimal=\",\",index=False)\n",
    "        log.info(f\"Real AUC for past 28 days is: {np.round(roc, 2)}\")\n",
    "\n",
    "    else:\n",
    "        log.info(\"There is no previous score\")\n",
    "\n",
    "    return None"
   ]
  }
 ],
 "metadata": {
  "kernelspec": {
   "display_name": "aa_engine_pkg",
   "language": "python",
   "name": "aa_engine_pkg"
  },
  "language_info": {
   "codemirror_mode": {
    "name": "ipython",
    "version": 3
   },
   "file_extension": ".py",
   "mimetype": "text/x-python",
   "name": "python",
   "nbconvert_exporter": "python",
   "pygments_lexer": "ipython3",
   "version": "3.7.7"
  }
 },
 "nbformat": 4,
 "nbformat_minor": 4
}
