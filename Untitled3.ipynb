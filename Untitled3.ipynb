{
 "cells": [
  {
   "cell_type": "code",
   "execution_count": 2,
   "metadata": {},
   "outputs": [],
   "source": [
    "# Load kedro environment (not needed in .py)\n",
    "from pathlib import Path\n",
    "from kedro.framework.context import load_context\n",
    "\n",
    "# Load a context to be able to work in the notebook\n",
    "#current_dir = Path.cwd()\n",
    "current_dir = Path(\"/u01/share/cesar/actuals_repos/aa_engine_uy/notebooks/\")\n",
    "proj_path = current_dir.parent\n",
    "context = load_context(proj_path)\n",
    "catalog = context.catalog\n",
    "credentials = context.config_loader.get(\"credentials*\",\"credentials*/**\")\n",
    "parameters = context.config_loader.get(\"parameters*\",\"parameters*/**\")\n",
    "\n",
    "from aa_engine_pkg.assets.utils import *\n",
    "from aa_engine_pkg.assets.core.data.kedro.catalog_expansion.partitioned_sql import SQLPartitionedDataSet\n",
    "from datetime import datetime"
   ]
  },
  {
   "cell_type": "code",
   "execution_count": 13,
   "metadata": {},
   "outputs": [
    {
     "data": {
      "text/html": [
       "<div>\n",
       "<style scoped>\n",
       "    .dataframe tbody tr th:only-of-type {\n",
       "        vertical-align: middle;\n",
       "    }\n",
       "\n",
       "    .dataframe tbody tr th {\n",
       "        vertical-align: top;\n",
       "    }\n",
       "\n",
       "    .dataframe thead th {\n",
       "        text-align: right;\n",
       "    }\n",
       "</style>\n",
       "<table border=\"1\" class=\"dataframe\">\n",
       "  <thead>\n",
       "    <tr style=\"text-align: right;\">\n",
       "      <th></th>\n",
       "      <th>CUSTOMER_ID</th>\n",
       "      <th>DATE_EXP</th>\n",
       "      <th>DATE_CALC</th>\n",
       "      <th>TARGET</th>\n",
       "    </tr>\n",
       "  </thead>\n",
       "  <tbody>\n",
       "    <tr>\n",
       "      <th>0</th>\n",
       "      <td>8882</td>\n",
       "      <td>202103</td>\n",
       "      <td>20210426</td>\n",
       "      <td>1</td>\n",
       "    </tr>\n",
       "    <tr>\n",
       "      <th>1</th>\n",
       "      <td>9690</td>\n",
       "      <td>202103</td>\n",
       "      <td>20210426</td>\n",
       "      <td>0</td>\n",
       "    </tr>\n",
       "    <tr>\n",
       "      <th>2</th>\n",
       "      <td>10189</td>\n",
       "      <td>202103</td>\n",
       "      <td>20210426</td>\n",
       "      <td>0</td>\n",
       "    </tr>\n",
       "    <tr>\n",
       "      <th>3</th>\n",
       "      <td>10492</td>\n",
       "      <td>202103</td>\n",
       "      <td>20210426</td>\n",
       "      <td>0</td>\n",
       "    </tr>\n",
       "    <tr>\n",
       "      <th>4</th>\n",
       "      <td>12869</td>\n",
       "      <td>202103</td>\n",
       "      <td>20210426</td>\n",
       "      <td>0</td>\n",
       "    </tr>\n",
       "  </tbody>\n",
       "</table>\n",
       "</div>"
      ],
      "text/plain": [
       "   CUSTOMER_ID DATE_EXP DATE_CALC  TARGET\n",
       "0         8882   202103  20210426       1\n",
       "1         9690   202103  20210426       0\n",
       "2        10189   202103  20210426       0\n",
       "3        10492   202103  20210426       0\n",
       "4        12869   202103  20210426       0"
      ]
     },
     "execution_count": 13,
     "metadata": {},
     "output_type": "execute_result"
    }
   ],
   "source": [
    "target=pd.read_parquet(\"/data/uy_po/target/target_retention/target_retention_20210426.parquet\")\n",
    "target.head()"
   ]
  },
  {
   "cell_type": "code",
   "execution_count": 4,
   "metadata": {},
   "outputs": [
    {
     "name": "stdout",
     "output_type": "stream",
     "text": [
      "2021-06-08 12:13:15,429 - kedro.io.data_catalog - INFO - Loading data from `intencion_baja` (SQLPartitionedDataSet)...\n",
      "2021-06-08 12:13:15,431 - kedro.io.data_catalog - INFO - Loading data from `churn` (SQLPartitionedDataSet)...\n",
      "2021-06-08 12:13:15,432 - kedro.io.data_catalog - INFO - Loading data from `cliente_activo` (SQLPartitionedDataSet)...\n"
     ]
    }
   ],
   "source": [
    "date=\"20210607\"\n",
    "intencion_baja=catalog.load('intencion_baja')\n",
    "churn=catalog.load('churn')\n",
    "cliente_activo=catalog.load(\"cliente_activo\")"
   ]
  },
  {
   "cell_type": "code",
   "execution_count": 7,
   "metadata": {},
   "outputs": [
    {
     "name": "stdout",
     "output_type": "stream",
     "text": [
      "2021-06-08 12:15:50,148 - aa_engine_pkg.assets.utils.utilities - INFO - Creating cliente_activo...\n",
      "select distinct CUSTOMER_ID from stg_uy_eop_customer where PRC_TIPO_ID = 3 and DATE_EXP = 202105\n"
     ]
    }
   ],
   "source": [
    "cliente_activo=create_cliente_activo(cliente_activo,date)"
   ]
  },
  {
   "cell_type": "code",
   "execution_count": 14,
   "metadata": {},
   "outputs": [
    {
     "name": "stdout",
     "output_type": "stream",
     "text": [
      "2021-06-08 12:27:57,648 - aa_engine_pkg.assets.utils.utilities - INFO - Cannot create upsell target for 20210607: Not enough future information\n"
     ]
    }
   ],
   "source": [
    "# Initialize logger\n",
    "log = initialize_logger()\n",
    "\n",
    "table_name = \"target_retention\"\n",
    "write_to_parquet = parameters[\"write_to_parquet\"]\n",
    "overwrite = parameters[\"targets\"][table_name][\"overwrite\"]\n",
    "start_date = date\n",
    "end_date = str(parameters[\"end_date\"])\n",
    "\n",
    "# Check if target can be created (date + max window < end_date)\n",
    "\n",
    "target_parameters = parameters[\"targets\"][table_name]\n",
    "max_window = max([target_parameters[x] for x in target_parameters.keys() if x.endswith(\"window\")])\n",
    "upper_bound = (pd.to_datetime(date) + timedelta(days=max_window)).strftime(\"%Y%m%d\")\n",
    "previous_sunday = dt.today() - timedelta(days=dt.today().weekday()+1)\n",
    "if pd.to_datetime(upper_bound, format=\"%Y%m%d\") > previous_sunday:\n",
    "    log.info(f\"Cannot create upsell target for {date}: Not enough future information\")\n",
    "# Compare with what is already processed\n",
    "path = f\"{parameters['paths']['target_path']}{table_name}/\"\n",
    "os.makedirs(path, exist_ok=True)\n",
    "processed_dates = os.listdir(path)\n",
    "match = [file for file in processed_dates if str(date) in file]\n"
   ]
  },
  {
   "cell_type": "code",
   "execution_count": 9,
   "metadata": {},
   "outputs": [
    {
     "name": "stdout",
     "output_type": "stream",
     "text": [
      "select * from stg_uy_intencion_baja where FECHA > to_date('20210607235900', 'yyyymmddhh24miss') and FECHA <= to_date('20210705235900', 'yyyymmddhh24miss')\n",
      "select CUSTOMER_ID, trunc(FECHA) FECHA from stg_uy_plan_evento where PROD_CATEGORY_ID = 3 and EVENTO_ID in (100142,142) and FECHA > to_date('20210607235900', 'yyyymmddhh24miss') and FECHA <= to_date('20210705235900', 'yyyymmddhh24miss')\n"
     ]
    }
   ],
   "source": [
    "# Calculate window\n",
    "end_date = (pd.to_datetime(date) + timedelta(days=parameters[\"targets\"][\"target_retention\"][\"calculation_window\"])).strftime(\"%Y%m%d\")\n",
    "\n",
    "# Calculate period to load for active clients\n",
    "period_to_load = get_previous_month(date)\n",
    "df_clientes = cliente_activo\n",
    "\n",
    "# Get intencion de baja and churn tables\n",
    "df_ib = intencion_baja.filter_by(date=[start_date,\n",
    "                                       end_date],target=True)\n",
    "\n",
    "df_churn = churn.filter_by(date=[start_date,\n",
    "                                 end_date],target=True)"
   ]
  },
  {
   "cell_type": "code",
   "execution_count": 10,
   "metadata": {},
   "outputs": [
    {
     "data": {
      "text/html": [
       "<div>\n",
       "<style scoped>\n",
       "    .dataframe tbody tr th:only-of-type {\n",
       "        vertical-align: middle;\n",
       "    }\n",
       "\n",
       "    .dataframe tbody tr th {\n",
       "        vertical-align: top;\n",
       "    }\n",
       "\n",
       "    .dataframe thead th {\n",
       "        text-align: right;\n",
       "    }\n",
       "</style>\n",
       "<table border=\"1\" class=\"dataframe\">\n",
       "  <thead>\n",
       "    <tr style=\"text-align: right;\">\n",
       "      <th></th>\n",
       "      <th>CUSTOMER_ID</th>\n",
       "      <th>FECHA</th>\n",
       "      <th>YEARMONTH_TOMA</th>\n",
       "      <th>YEARMONTH_CHURN</th>\n",
       "      <th>TIPO</th>\n",
       "      <th>GESTION</th>\n",
       "      <th>DATE_EXP</th>\n",
       "    </tr>\n",
       "  </thead>\n",
       "  <tbody>\n",
       "  </tbody>\n",
       "</table>\n",
       "</div>"
      ],
      "text/plain": [
       "Empty DataFrame\n",
       "Columns: [CUSTOMER_ID, FECHA, YEARMONTH_TOMA, YEARMONTH_CHURN, TIPO, GESTION, DATE_EXP]\n",
       "Index: []"
      ]
     },
     "execution_count": 10,
     "metadata": {},
     "output_type": "execute_result"
    }
   ],
   "source": [
    "df_ib.head()"
   ]
  },
  {
   "cell_type": "code",
   "execution_count": 11,
   "metadata": {},
   "outputs": [
    {
     "data": {
      "text/html": [
       "<div>\n",
       "<style scoped>\n",
       "    .dataframe tbody tr th:only-of-type {\n",
       "        vertical-align: middle;\n",
       "    }\n",
       "\n",
       "    .dataframe tbody tr th {\n",
       "        vertical-align: top;\n",
       "    }\n",
       "\n",
       "    .dataframe thead th {\n",
       "        text-align: right;\n",
       "    }\n",
       "</style>\n",
       "<table border=\"1\" class=\"dataframe\">\n",
       "  <thead>\n",
       "    <tr style=\"text-align: right;\">\n",
       "      <th></th>\n",
       "      <th>CUSTOMER_ID</th>\n",
       "      <th>FECHA</th>\n",
       "    </tr>\n",
       "  </thead>\n",
       "  <tbody>\n",
       "  </tbody>\n",
       "</table>\n",
       "</div>"
      ],
      "text/plain": [
       "Empty DataFrame\n",
       "Columns: [CUSTOMER_ID, FECHA]\n",
       "Index: []"
      ]
     },
     "execution_count": 11,
     "metadata": {},
     "output_type": "execute_result"
    }
   ],
   "source": [
    "df_churn.head()"
   ]
  },
  {
   "cell_type": "code",
   "execution_count": null,
   "metadata": {},
   "outputs": [],
   "source": [
    "from aa_engine_pkg.assets.utils import *\n",
    "from aa_engine_pkg.assets.core.data.kedro.catalog_expansion.partitioned_sql import SQLPartitionedDataSet\n",
    "\n",
    "vars_to_string = [\"PRODUCTO_ID\",\n",
    "                  \"EVENTO_ID\",\n",
    "                  \"PROD_CATEGORY_ID\"]\n",
    "vars_to_merge = [\"CUSTOMER_ID\", \"FECHA\"]\n",
    "\n",
    "\n",
    "def create_target_retention(intencion_baja: SQLPartitionedDataSet,\n",
    "                            churn: SQLPartitionedDataSet,\n",
    "                            cliente_activo: pd.DataFrame,\n",
    "                            parameters: Dict,\n",
    "                            date: str) -> pd.DataFrame:\n",
    "    \"\"\"\n",
    "    Parameters\n",
    "    ----------\n",
    "    intencion_baja: \n",
    "        dataset defined in ``catalog_raw.yml`` with raw data information related to customers calling to cancel the\n",
    "        service\n",
    "    churn: \n",
    "        dataset defined in ``catalog_raw.yml`` with raw data information related to customers requesting cancellation of\n",
    "        the programming service\n",
    "    cliente_activo: \n",
    "        dataset defined in ``catalog_raw.yml`` with raw data information related to active clients at EoP\n",
    "    date: \n",
    "        period to process\n",
    "    parameters: \n",
    "        set of project parameters defined in ``parameters.yml``\n",
    "\n",
    "    Returns\n",
    "    -------\n",
    "    pd.DataFrame\n",
    "        pandas dataframe with retention target for period\n",
    "    \"\"\"\n",
    "\n",
    "    # Initialize logger\n",
    "    log = initialize_logger()\n",
    "\n",
    "    table_name = \"target_retention\"\n",
    "    write_to_parquet = parameters[\"write_to_parquet\"]\n",
    "    overwrite = parameters[\"targets\"][table_name][\"overwrite\"]\n",
    "    start_date = date\n",
    "    end_date = str(parameters[\"end_date\"])\n",
    "\n",
    "    # Check if target can be created (date + max window < end_date)\n",
    "\n",
    "    target_parameters = parameters[\"targets\"][table_name]\n",
    "    max_window = max([target_parameters[x] for x in target_parameters.keys() if x.endswith(\"window\")])\n",
    "    upper_bound = (pd.to_datetime(date) + timedelta(days=max_window)).strftime(\"%Y%m%d\")\n",
    "    previous_sunday = dt.today() - timedelta(days=dt.today().weekday()+1)\n",
    "\n",
    "    # Compare with what is already processed\n",
    "    path = f\"{parameters['paths']['target_path']}{table_name}/\"\n",
    "    os.makedirs(path, exist_ok=True)\n",
    "    processed_dates = os.listdir(path)\n",
    "    match = [file for file in processed_dates if str(date) in file]\n",
    "\n",
    "    if len(match) > 0 and overwrite is False:\n",
    "        # If table is found, read parquet:\n",
    "        log.info(f\"Reading {match[0]} table\")\n",
    "        target = pd.read_parquet(path + match[0], engine=\"pyarrow\")\n",
    "\n",
    "    else:\n",
    "\n",
    "        # Calculate window\n",
    "        end_date = (pd.to_datetime(date) + timedelta(days=parameters[\"targets\"][\"target_retention\"][\"calculation_window\"])).strftime(\"%Y%m%d\")\n",
    "\n",
    "        # Calculate period to load for active clients\n",
    "        period_to_load = get_previous_month(date)\n",
    "        df_clientes = cliente_activo\n",
    "\n",
    "        # Get intencion de baja and churn tables\n",
    "        df_ib = intencion_baja.filter_by(date=[start_date,\n",
    "                                               end_date],target=True)\n",
    "\n",
    "        df_churn = churn.filter_by(date=[start_date,\n",
    "                                         end_date],target=True)\n",
    "\n",
    "        # Merging\n",
    "        df_ib.rename(columns={\"FECHA\": \"FECHA_IB\"}, inplace=True)\n",
    "\n",
    "\n",
    "\n",
    "        df_target = df_clientes.merge(df_ib[[\"CUSTOMER_ID\", \"FECHA_IB\"]],\n",
    "                                      on=\"CUSTOMER_ID\",\n",
    "                                      how=\"inner\")\n",
    "        df_target = df_target.merge(df_churn,\n",
    "                                    on=\"CUSTOMER_ID\",\n",
    "                                    how=\"left\")\n",
    "\n",
    "        # Considering only bajas scheduled the same day the customer called\n",
    "\n",
    "        df_target['DIFF'] = (df_target[\"FECHA\"] - df_target[\"FECHA_IB\"]) / np.timedelta64(1, \"D\")\n",
    "\n",
    "        df_target[\"TARGET\"] = np.where(df_target[\"DIFF\"] == 0, 1, 0)\n",
    "        df_target = df_target.groupby([\"CUSTOMER_ID\", \"FECHA_IB\"])[\"TARGET\"].max().reset_index(name=\"TARGET\")\n",
    "        df_target.rename(columns={\"FECHA_IB\": \"FECHA_TARGET\"}, inplace=True)\n",
    "\n",
    "        # Add period\n",
    "        df_target[\"DATE_EXP\"] = period_to_load\n",
    "        df_target[\"TARGET\"] = df_target[\"TARGET\"].astype(np.int32)\n",
    "        df_target[\"DATE_CALC\"] = pd.to_datetime(start_date).strftime(\"%Y%m%d\")\n",
    "\n",
    "        df_target = df_target.groupby([\"CUSTOMER_ID\", \"DATE_EXP\", \"DATE_CALC\"])[\"TARGET\"].max().reset_index()\n",
    "\n",
    "        if write_to_parquet:\n",
    "            file = f\"{parameters['paths']['target_path']}{table_name}/{table_name}_{date}.parquet\"\n",
    "            df_target.to_parquet(file, engine=\"pyarrow\")\n",
    "\n",
    "        # Return\n",
    "        log.info(\n",
    "            f\"\"\"Exporting target for period {start_date} and rate {\n",
    "            np.round(100 * df_target[df_target['TARGET'] == 1]['CUSTOMER_ID'].nunique() / df_target['CUSTOMER_ID'].nunique(), 2)\n",
    "            }%\"\"\")\n",
    "\n",
    "    return df_target"
   ]
  },
  {
   "cell_type": "code",
   "execution_count": 3,
   "metadata": {},
   "outputs": [],
   "source": [
    "def create_cliente_activo(cliente_activo: SQLPartitionedDataSet,\n",
    "                          date: str) -> pd.DataFrame:\n",
    "    \"\"\"Creates master table with features related to EoP state of customers for one period of data\n",
    "\n",
    "    Parameters\n",
    "    ----------\n",
    "    cliente_activo:\n",
    "        dataset defined in ´catalog.yml´ - list of active customers at EoP for the given period\n",
    "    date:\n",
    "        period to process\n",
    "    \n",
    "    Returns\n",
    "    -------\n",
    "        Mastertable with information of clientes at EoP\n",
    "    \"\"\"\n",
    "\n",
    "    # Initialize logger\n",
    "    log = initialize_logger()\n",
    "\n",
    "    # Load active clientes for period\n",
    "    log.info(f\"Creating cliente_activo...\")\n",
    "    period_to_load = get_previous_month(date)\n",
    "    df_clientes_activos = cliente_activo.filter_by(date=period_to_load)\n",
    "\n",
    "    # Return\n",
    "    return df_clientes_activos"
   ]
  }
 ],
 "metadata": {
  "kernelspec": {
   "display_name": "Python 3",
   "language": "python",
   "name": "python3"
  },
  "language_info": {
   "codemirror_mode": {
    "name": "ipython",
    "version": 3
   },
   "file_extension": ".py",
   "mimetype": "text/x-python",
   "name": "python",
   "nbconvert_exporter": "python",
   "pygments_lexer": "ipython3",
   "version": "3.7.7"
  }
 },
 "nbformat": 4,
 "nbformat_minor": 4
}
