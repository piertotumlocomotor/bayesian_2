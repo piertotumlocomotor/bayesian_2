{
 "cells": [
  {
   "cell_type": "code",
   "execution_count": 7,
   "metadata": {},
   "outputs": [],
   "source": [
    "# Load kedro environment (not needed in .py)\n",
    "from pathlib import Path\n",
    "from kedro.framework.context import load_context\n",
    "\n",
    "# Load a context to be able to work in the notebook\n",
    "#current_dir = Path.cwd()\n",
    "current_dir = Path(\"/u01/share/cesar/aa_engine_uy/notebooks/\")\n",
    "proj_path = current_dir.parent\n",
    "context = load_context(proj_path)\n",
    "catalog = context.catalog\n",
    "credentials = context.config_loader.get(\"credentials*\",\"credentials*/**\")\n",
    "parameters = context.config_loader.get(\"parameters*\",\"parameters*/**\")\n",
    "from aa_engine_pkg.assets.core.data.kedro.catalog_expansion.partitioned_sql import SQLPartitionedDataSet\n",
    "from aa_engine_pkg.assets.utils import *"
   ]
  },
  {
   "cell_type": "code",
   "execution_count": 19,
   "metadata": {},
   "outputs": [
    {
     "name": "stdout",
     "output_type": "stream",
     "text": [
      "2021-06-15 20:23:31,118 - kedro.io.data_catalog - INFO - Loading data from `eventos_facturados` (SQLPartitionedDataSet)...\n",
      "2021-06-15 20:23:31,120 - kedro.io.data_catalog - INFO - Loading data from `cliente_activo` (SQLPartitionedDataSet)...\n"
     ]
    }
   ],
   "source": [
    "eventos_facturados = catalog.load(\"eventos_facturados\")\n",
    "cliente_activo = catalog.load(\"cliente_activo\")"
   ]
  },
  {
   "cell_type": "code",
   "execution_count": 21,
   "metadata": {},
   "outputs": [
    {
     "name": "stdout",
     "output_type": "stream",
     "text": [
      "2021-06-15 20:23:39,030 - aa_engine_pkg.assets.utils.utilities - INFO - Creating cliente_activo...\n",
      "select distinct CUSTOMER_ID from stg_uy_eop_customer where PRC_TIPO_ID = 3 and DATE_EXP = 202011\n"
     ]
    }
   ],
   "source": [
    "date = \"20201207\"\n",
    "cliente_activo = create_cliente_activo(cliente_activo,date)"
   ]
  },
  {
   "cell_type": "code",
   "execution_count": 22,
   "metadata": {},
   "outputs": [
    {
     "name": "stdout",
     "output_type": "stream",
     "text": [
      "select * from stg_uy_evento_facturado where DATE_EXP in ('202012', '202011', '202010', '202009', '202008', '202007')\n",
      "2021-06-15 20:24:08,978 - aa_engine_pkg.assets.utils.utilities - INFO - Merging with EOP...\n"
     ]
    }
   ],
   "source": [
    "log = initialize_logger()\n",
    "look_back_months = parameters[\"masters\"][\"global\"][\"look_back_months\"]\n",
    "periods_to_load = get_last_k_periods(date, look_back_months)\n",
    "periods_to_load = tuple(periods_to_load)\n",
    "start_date = periods_to_load[-1]\n",
    "period_to_load = get_previous_month(date)\n",
    "\n",
    "# Calculate period to load for active clients\n",
    "df_clientes = cliente_activo[[\"CUSTOMER_ID\"]]\n",
    "df_ef = eventos_facturados.filter_by_period(date=periods_to_load).drop_duplicates()\n",
    "log.info(\"Merging with EOP...\")\n",
    "df_ef = pd.merge(df_clientes,\n",
    "                 df_ef,\n",
    "                 on=[\"CUSTOMER_ID\"],\n",
    "                 how=\"inner\",\n",
    "                 validate=\"1:m\")"
   ]
  },
  {
   "cell_type": "code",
   "execution_count": 23,
   "metadata": {},
   "outputs": [
    {
     "data": {
      "text/html": [
       "<div>\n",
       "<style scoped>\n",
       "    .dataframe tbody tr th:only-of-type {\n",
       "        vertical-align: middle;\n",
       "    }\n",
       "\n",
       "    .dataframe tbody tr th {\n",
       "        vertical-align: top;\n",
       "    }\n",
       "\n",
       "    .dataframe thead th {\n",
       "        text-align: right;\n",
       "    }\n",
       "</style>\n",
       "<table border=\"1\" class=\"dataframe\">\n",
       "  <thead>\n",
       "    <tr style=\"text-align: right;\">\n",
       "      <th></th>\n",
       "      <th>CUSTOMER_ID</th>\n",
       "      <th>NRO_FACTURA</th>\n",
       "      <th>FECHA_FACTURACION</th>\n",
       "      <th>BALANCE_BROUGHT_FORWARD</th>\n",
       "      <th>MONTO</th>\n",
       "      <th>FINANCIAL_ACCOUNT_ID</th>\n",
       "      <th>BALANCE</th>\n",
       "      <th>DATE_EXP</th>\n",
       "    </tr>\n",
       "  </thead>\n",
       "  <tbody>\n",
       "    <tr>\n",
       "      <th>0</th>\n",
       "      <td>70100</td>\n",
       "      <td>21043842</td>\n",
       "      <td>2020-11-10</td>\n",
       "      <td>1047.0</td>\n",
       "      <td>1047.0</td>\n",
       "      <td>6129</td>\n",
       "      <td>0.0</td>\n",
       "      <td>202011</td>\n",
       "    </tr>\n",
       "    <tr>\n",
       "      <th>1</th>\n",
       "      <td>70100</td>\n",
       "      <td>20105254</td>\n",
       "      <td>2020-07-10</td>\n",
       "      <td>1047.0</td>\n",
       "      <td>1047.0</td>\n",
       "      <td>6129</td>\n",
       "      <td>0.0</td>\n",
       "      <td>202007</td>\n",
       "    </tr>\n",
       "    <tr>\n",
       "      <th>2</th>\n",
       "      <td>70100</td>\n",
       "      <td>20335438</td>\n",
       "      <td>2020-08-10</td>\n",
       "      <td>1047.0</td>\n",
       "      <td>1047.0</td>\n",
       "      <td>6129</td>\n",
       "      <td>0.0</td>\n",
       "      <td>202008</td>\n",
       "    </tr>\n",
       "    <tr>\n",
       "      <th>3</th>\n",
       "      <td>70100</td>\n",
       "      <td>20564622</td>\n",
       "      <td>2020-09-10</td>\n",
       "      <td>1047.0</td>\n",
       "      <td>1047.0</td>\n",
       "      <td>6129</td>\n",
       "      <td>0.0</td>\n",
       "      <td>202009</td>\n",
       "    </tr>\n",
       "    <tr>\n",
       "      <th>4</th>\n",
       "      <td>70100</td>\n",
       "      <td>20806923</td>\n",
       "      <td>2020-10-12</td>\n",
       "      <td>1047.0</td>\n",
       "      <td>1047.0</td>\n",
       "      <td>6129</td>\n",
       "      <td>0.0</td>\n",
       "      <td>202010</td>\n",
       "    </tr>\n",
       "  </tbody>\n",
       "</table>\n",
       "</div>"
      ],
      "text/plain": [
       "   CUSTOMER_ID  NRO_FACTURA FECHA_FACTURACION  BALANCE_BROUGHT_FORWARD  \\\n",
       "0        70100     21043842        2020-11-10                   1047.0   \n",
       "1        70100     20105254        2020-07-10                   1047.0   \n",
       "2        70100     20335438        2020-08-10                   1047.0   \n",
       "3        70100     20564622        2020-09-10                   1047.0   \n",
       "4        70100     20806923        2020-10-12                   1047.0   \n",
       "\n",
       "    MONTO  FINANCIAL_ACCOUNT_ID  BALANCE DATE_EXP  \n",
       "0  1047.0                  6129      0.0   202011  \n",
       "1  1047.0                  6129      0.0   202007  \n",
       "2  1047.0                  6129      0.0   202008  \n",
       "3  1047.0                  6129      0.0   202009  \n",
       "4  1047.0                  6129      0.0   202010  "
      ]
     },
     "execution_count": 23,
     "metadata": {},
     "output_type": "execute_result"
    }
   ],
   "source": [
    "df_ef.head()"
   ]
  },
  {
   "cell_type": "code",
   "execution_count": 24,
   "metadata": {},
   "outputs": [
    {
     "data": {
      "text/plain": [
       "count    671865.000000\n",
       "mean       2472.621845\n",
       "std        1410.160641\n",
       "min      -29707.000000\n",
       "25%        1608.000000\n",
       "50%        2221.000000\n",
       "75%        3019.000000\n",
       "max       84790.000000\n",
       "Name: BALANCE_BROUGHT_FORWARD, dtype: float64"
      ]
     },
     "execution_count": 24,
     "metadata": {},
     "output_type": "execute_result"
    }
   ],
   "source": [
    "df_ef.BALANCE_BROUGHT_FORWARD.describe()"
   ]
  },
  {
   "cell_type": "code",
   "execution_count": 43,
   "metadata": {},
   "outputs": [
    {
     "name": "stdout",
     "output_type": "stream",
     "text": [
      "0      87.0\n",
      "1      30.0\n",
      "2      25.0\n",
      "3      41.0\n",
      "4      12.0\n",
      "5      40.0\n",
      "6      40.0\n",
      "7     120.0\n",
      "8      66.0\n",
      "9      66.0\n",
      "10    777.0\n",
      "11     40.5\n",
      "dtype: float64\n",
      "0     10.0\n",
      "1      3.0\n",
      "2      2.0\n",
      "3      7.0\n",
      "4      1.0\n",
      "5      4.5\n",
      "6      4.5\n",
      "7     11.0\n",
      "8      8.5\n",
      "9      8.5\n",
      "10    12.0\n",
      "11     6.0\n",
      "dtype: float64\n",
      "0     0.833333\n",
      "1     0.250000\n",
      "2     0.166667\n",
      "3     0.583333\n",
      "4     0.083333\n",
      "5     0.375000\n",
      "6     0.375000\n",
      "7     0.916667\n",
      "8     0.708333\n",
      "9     0.708333\n",
      "10    1.000000\n",
      "11    0.500000\n",
      "dtype: float64\n"
     ]
    }
   ],
   "source": [
    "a = pd.Series([87,30,25,41,12,40,40,120,66,66,777,40.5])\n",
    "print(a)\n",
    "print(a.rank())\n",
    "print(a.rank()/len(a))"
   ]
  },
  {
   "cell_type": "code",
   "execution_count": 44,
   "metadata": {},
   "outputs": [
    {
     "data": {
      "text/plain": [
       "40.75"
      ]
     },
     "execution_count": 44,
     "metadata": {},
     "output_type": "execute_result"
    }
   ],
   "source": [
    "a.median()"
   ]
  },
  {
   "cell_type": "code",
   "execution_count": 49,
   "metadata": {},
   "outputs": [
    {
     "data": {
      "text/plain": [
       "0.8333333333333334"
      ]
     },
     "execution_count": 49,
     "metadata": {},
     "output_type": "execute_result"
    }
   ],
   "source": [
    "sum(a<=87)/len(a)"
   ]
  },
  {
   "cell_type": "code",
   "execution_count": 25,
   "metadata": {},
   "outputs": [],
   "source": [
    "df_ef[\"BALANCE_BROUGHT_FORWARD_SCALED\"] = scale_values(df=df_ef,\n",
    "                                      vars_to_groupby=[\"DATE_EXP\"],\n",
    "                                      var_to_scale=\"BALANCE_BROUGHT_FORWARD\",\n",
    "                                      by_ranking=False)"
   ]
  },
  {
   "cell_type": "code",
   "execution_count": 53,
   "metadata": {},
   "outputs": [
    {
     "data": {
      "text/html": [
       "<div>\n",
       "<style scoped>\n",
       "    .dataframe tbody tr th:only-of-type {\n",
       "        vertical-align: middle;\n",
       "    }\n",
       "\n",
       "    .dataframe tbody tr th {\n",
       "        vertical-align: top;\n",
       "    }\n",
       "\n",
       "    .dataframe thead th {\n",
       "        text-align: right;\n",
       "    }\n",
       "</style>\n",
       "<table border=\"1\" class=\"dataframe\">\n",
       "  <thead>\n",
       "    <tr style=\"text-align: right;\">\n",
       "      <th></th>\n",
       "      <th>BALANCE_BROUGHT_FORWARD</th>\n",
       "      <th>BALANCE_BROUGHT_FORWARD_SCALED</th>\n",
       "    </tr>\n",
       "  </thead>\n",
       "  <tbody>\n",
       "    <tr>\n",
       "      <th>75</th>\n",
       "      <td>4855.29</td>\n",
       "      <td>1.000000</td>\n",
       "    </tr>\n",
       "    <tr>\n",
       "      <th>100</th>\n",
       "      <td>5365.00</td>\n",
       "      <td>0.998569</td>\n",
       "    </tr>\n",
       "    <tr>\n",
       "      <th>121</th>\n",
       "      <td>4344.00</td>\n",
       "      <td>0.901620</td>\n",
       "    </tr>\n",
       "    <tr>\n",
       "      <th>122</th>\n",
       "      <td>4344.00</td>\n",
       "      <td>0.907159</td>\n",
       "    </tr>\n",
       "    <tr>\n",
       "      <th>123</th>\n",
       "      <td>4344.00</td>\n",
       "      <td>0.905843</td>\n",
       "    </tr>\n",
       "    <tr>\n",
       "      <th>...</th>\n",
       "      <td>...</td>\n",
       "      <td>...</td>\n",
       "    </tr>\n",
       "    <tr>\n",
       "      <th>670576</th>\n",
       "      <td>4984.47</td>\n",
       "      <td>0.928385</td>\n",
       "    </tr>\n",
       "    <tr>\n",
       "      <th>670598</th>\n",
       "      <td>4943.19</td>\n",
       "      <td>0.927557</td>\n",
       "    </tr>\n",
       "    <tr>\n",
       "      <th>670787</th>\n",
       "      <td>4867.04</td>\n",
       "      <td>0.917821</td>\n",
       "    </tr>\n",
       "    <tr>\n",
       "      <th>670870</th>\n",
       "      <td>4626.60</td>\n",
       "      <td>0.869277</td>\n",
       "    </tr>\n",
       "    <tr>\n",
       "      <th>670910</th>\n",
       "      <td>5273.66</td>\n",
       "      <td>0.976150</td>\n",
       "    </tr>\n",
       "  </tbody>\n",
       "</table>\n",
       "<p>52979 rows × 2 columns</p>\n",
       "</div>"
      ],
      "text/plain": [
       "        BALANCE_BROUGHT_FORWARD  BALANCE_BROUGHT_FORWARD_SCALED\n",
       "75                      4855.29                        1.000000\n",
       "100                     5365.00                        0.998569\n",
       "121                     4344.00                        0.901620\n",
       "122                     4344.00                        0.907159\n",
       "123                     4344.00                        0.905843\n",
       "...                         ...                             ...\n",
       "670576                  4984.47                        0.928385\n",
       "670598                  4943.19                        0.927557\n",
       "670787                  4867.04                        0.917821\n",
       "670870                  4626.60                        0.869277\n",
       "670910                  5273.66                        0.976150\n",
       "\n",
       "[52979 rows x 2 columns]"
      ]
     },
     "execution_count": 53,
     "metadata": {},
     "output_type": "execute_result"
    }
   ],
   "source": [
    "df_ef[[\"BALANCE_BROUGHT_FORWARD\",\"BALANCE_BROUGHT_FORWARD_SCALED\"]].loc[df_ef.BALANCE_BROUGHT_FORWARD_SCALED>=0.85]"
   ]
  },
  {
   "cell_type": "code",
   "execution_count": 9,
   "metadata": {},
   "outputs": [],
   "source": [
    "num_vars = [\"MONTO\", \"BALANCE_BROUGHT_FORWARD\"]\n",
    "\n",
    "vars_to_group_by = [\"CUSTOMER_ID\"]\n",
    "\n",
    "id_cols = [\"CUSTOMER_ID\", \"DATE_EXP\", \"DATE_CALC\"]\n",
    "\n",
    "past_periods = [1, 2, 3, 4, 5, 6]\n",
    "\n",
    "\n",
    "def create_master_eventos_fact(eventos_facturados: SQLPartitionedDataSet,\n",
    "                               cliente_activo: pd.DataFrame,\n",
    "                               parameters: Dict,\n",
    "                               date: str) -> pd.DataFrame:\n",
    "    \"\"\"Creates master table with billing features for one period of data\n",
    "    Parameters\n",
    "    ----------\n",
    "    eventos_facturados:\n",
    "        dataset defined in ``catalog_raw.yml`` with raw data information related to customer billing state at EoP\n",
    "    cliente_activo:\n",
    "        dataset defined in ``catalog_raw.yml`` with raw data information related to active clients at EoP\n",
    "    date:\n",
    "        period to process\n",
    "    parameters:\n",
    "        set of project parameters defined in ``parameters.yml``\n",
    "    Returns\n",
    "    -------\n",
    "    pd.DataFrame\n",
    "        Master table with billing features for one period\n",
    "    \"\"\"\n",
    "\n",
    "    # Initialize logger\n",
    "    log = initialize_logger()\n",
    "\n",
    "    write_to_parquet = parameters[\"write_to_parquet\"]\n",
    "    table_name = \"eventos_facturados\"\n",
    "    overwrite = parameters[\"masters\"][table_name][\"overwrite\"]\n",
    "\n",
    "    # Check if table was already created\n",
    "    files = get_mastertable_paths_by_period(parameters=parameters, period=date)\n",
    "    match = [str(file) for file in files if table_name in file]\n",
    "\n",
    "    if len(match) > 0 and overwrite is False:\n",
    "        # If table is found, read parquet:\n",
    "        log.info(f\"Reading {match[0]} table\")\n",
    "        df_ef_past = pd.read_parquet(match[0], engine=\"pyarrow\")\n",
    "\n",
    "    else:\n",
    "        # Read parameters\n",
    "        look_back_months = parameters[\"masters\"][\"global\"][\"look_back_months\"]\n",
    "        periods_to_load = get_last_k_periods(date, look_back_months)\n",
    "        periods_to_load = tuple(periods_to_load)\n",
    "        start_date = periods_to_load[-1]\n",
    "        period_to_load = get_previous_month(date)\n",
    "\n",
    "        # Calculate period to load for active clients\n",
    "        df_clientes = cliente_activo[[\"CUSTOMER_ID\"]]\n",
    "        df_ef = eventos_facturados.filter_by_period(date=periods_to_load).drop_duplicates()\n",
    "        log.info(\"Merging with EOP...\")\n",
    "        df_ef = pd.merge(df_clientes,\n",
    "                         df_ef,\n",
    "                         on=[\"CUSTOMER_ID\"],\n",
    "                         how=\"inner\",\n",
    "                         validate=\"1:m\")\n",
    "\n",
    "        for var in [\"MONTO\", \"BALANCE_BROUGHT_FORWARD\"]:\n",
    "            log.info(f\"----{var}\")\n",
    "            df_ef[var] = scale_values(df=df_ef,\n",
    "                                      vars_to_groupby=[\"DATE_EXP\"],\n",
    "                                      var_to_scale=var,\n",
    "                                      by_ranking=False)\n",
    "\n",
    "        df_ef_past = add_relative_calculate_past(df_ef,\n",
    "                                                 id_cols=[\"CUSTOMER_ID\"],\n",
    "                                                 date_col=\"DATE_EXP\",\n",
    "                                                 start_date=start_date,\n",
    "                                                 end_date=period_to_load,\n",
    "                                                 periods=past_periods,\n",
    "                                                 period_freq=\"M\",\n",
    "                                                 agg={'MONTO': [np.nanmean, np.nanmax, np.nanmin],\n",
    "                                                      'BALANCE_BROUGHT_FORWARD': [np.nanmean, np.nanmax, np.nanmin]}\n",
    "                                                 )\n",
    "\n",
    "        # Add date variables\n",
    "        df_ef_past[\"DATE_EXP\"] = period_to_load\n",
    "\n",
    "        # Change variable names \n",
    "        table_preffix = parameters[\"masters\"][\"eventos_facturados\"][\"table_preffix\"]\n",
    "        rename_table(df_ef_past,\n",
    "                     preffix=table_preffix,\n",
    "                     ids_to_exclude=id_cols)\n",
    "        log.info(f\"Exporting {df_ef_past.shape[0]} rows and {df_ef_past.shape[1]} columns\")\n",
    "\n",
    "        if write_to_parquet:\n",
    "            log.info(f\"\\n------ Writing {table_name} for period {date} to parquet ------\")\n",
    "            file = f\"{parameters['paths']['master_path']}master_{table_name}/master_{table_name}_{date}.parquet\"\n",
    "            df_ef_past.to_parquet(file, engine=\"pyarrow\")\n",
    "\n",
    "        log.info(f\"Exporting {df_ef_past.shape[0]} rows and {df_ef_past.shape[1]} columns\")\n",
    "\n",
    "    return df_ef_past\n"
   ]
  },
  {
   "cell_type": "code",
   "execution_count": 20,
   "metadata": {},
   "outputs": [],
   "source": [
    "def create_cliente_activo(cliente_activo: SQLPartitionedDataSet,\n",
    "                          date: str) -> pd.DataFrame:\n",
    "    \"\"\"Creates master table with features related to EoP state of customers for one period of data\n",
    "\n",
    "    Parameters\n",
    "    ----------\n",
    "    cliente_activo:\n",
    "        dataset defined in ´catalog.yml´ - list of active customers at EoP for the given period\n",
    "    date:\n",
    "        period to process\n",
    "    \n",
    "    Returns\n",
    "    -------\n",
    "        Mastertable with information of clientes at EoP\n",
    "    \"\"\"\n",
    "\n",
    "    # Initialize logger\n",
    "    log = initialize_logger()\n",
    "\n",
    "    # Load active clientes for period\n",
    "    log.info(f\"Creating cliente_activo...\")\n",
    "    period_to_load = get_previous_month(date)\n",
    "    df_clientes_activos = cliente_activo.filter_by(date=period_to_load)\n",
    "\n",
    "    # Return\n",
    "    return df_clientes_activos"
   ]
  }
 ],
 "metadata": {
  "kernelspec": {
   "display_name": "Python 3",
   "language": "python",
   "name": "python3"
  },
  "language_info": {
   "codemirror_mode": {
    "name": "ipython",
    "version": 3
   },
   "file_extension": ".py",
   "mimetype": "text/x-python",
   "name": "python",
   "nbconvert_exporter": "python",
   "pygments_lexer": "ipython3",
   "version": "3.7.7"
  }
 },
 "nbformat": 4,
 "nbformat_minor": 4
}
