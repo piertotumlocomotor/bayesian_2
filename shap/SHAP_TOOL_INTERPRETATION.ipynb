{
 "cells": [
  {
   "cell_type": "markdown",
   "metadata": {},
   "source": [
    "### The shap_values object \n",
    "is a list with two arrays. The first array is the SHAP values for a negative outcome, and the second array is the list of SHAP values for the positive outcome. We typically think about predictions in terms of the prediction of a positive outcome, so we'll pull out SHAP values for positive outcomes (**pulling out shap_values[1]**)"
   ]
  },
  {
   "cell_type": "code",
   "execution_count": 1,
   "metadata": {},
   "outputs": [],
   "source": [
    "import shap\n",
    "# Load kedro environment (not needed in .py)\n",
    "from pathlib import Path\n",
    "from kedro.framework.context import load_context\n",
    "\n",
    "# Load a context to be able to work in the notebook\n",
    "current_dir = Path(\"/u01/share/cesar/aa_engine_uy/notebooks_uy/shap\")\n",
    "proj_path = current_dir.parent.parent\n",
    "context = load_context(proj_path)\n",
    "catalog = context.catalog\n",
    "credentials = context.config_loader.get(\"credentials*\",\"credentials*/**\")\n",
    "parameters = context.config_loader.get(\"parameters*\",\"parameters*/**\")\n",
    "from re import search\n",
    "from aa_engine_pkg.assets.utils import *\n",
    "\n",
    "from datetime import datetime\n",
    "from scipy.ndimage import gaussian_filter1d\n",
    "import os\n",
    "from lime.lime_tabular import LimeTabularExplainer\n",
    "import shap\n",
    "import numpy as np\n",
    "import pandas as pd\n",
    "import re\n",
    "import plotly.graph_objects as go\n",
    "import math\n",
    "import seaborn as sns\n",
    "import waterfall_chart\n",
    "\n",
    "\n",
    "from aa_engine_pkg.assets.utils import *\n",
    "pd.set_option('display.max_columns', 100)\n",
    "\n",
    "# Initialize logger\n",
    "log = logging.getLogger(__name__)"
   ]
  },
  {
   "cell_type": "code",
   "execution_count": 2,
   "metadata": {},
   "outputs": [],
   "source": [
    "# Loading parameters\n",
    "model = \"pwb\"\n",
    "model_type = \"binary\"\n",
    "if model == \"\":\n",
    "    model = parameters[\"models\"][\"model\"]\n",
    "if model_type == \"\":\n",
    "    model = parameters[\"models\"][model][\"model_type\"]\n",
    "id_var = parameters[\"models\"][model][model_type][\"id_vars\"]\n",
    "period_var = parameters[\"models\"][model][model_type][\"period_vars\"]\n",
    "score_var = parameters[\"models\"][model][model_type][\"score_var\"]"
   ]
  },
  {
   "cell_type": "code",
   "execution_count": 24,
   "metadata": {},
   "outputs": [],
   "source": [
    "def load_explainability_input(model:str,\n",
    "                              model_type:str,\n",
    "                              parameters):\n",
    "\n",
    "    # Load parameters\n",
    "    model_path = parameters[\"paths\"][\"model_path\"]\n",
    "    n_threads = parameters[\"models\"][\"n_threads\"]\n",
    "    target_var = parameters[\"models\"][model][model_type][\"target_var\"]\n",
    "    score_var = parameters[\"models\"][model][model_type][\"score_var\"]\n",
    "    fill_na_with = parameters[\"models\"][model][model_type][\"fill_na_with\"]\n",
    "    model_format = parameters[\"models\"][model][model_type][\"model_to_load\"]\n",
    "    print(model_path + model_format + f\"_{model}_{model_type}_model/\")\n",
    "    if type(fill_na_with) == str:\n",
    "        fill_na_with = eval(fill_na_with)\n",
    "\n",
    "    # Set model file\n",
    "    model_folder = model_path + model_format + f\"_{model}_{model_type}_model/\"\n",
    "\n",
    "    # Load model\n",
    "    lgbmodel = lgbm.Booster(model_file=model_folder + model_format + \".txt\")\n",
    "\n",
    "    # Load data\n",
    "    aux = pd.read_csv(model_folder + model_format + \"_volumes.csv\", sep=\";\", decimal=\",\")\n",
    "    periods_to_load = aux.loc[aux[\"SET\"]==\"TRAIN\",period_var[0]].astype(str).unique().tolist()\n",
    "    if model != \"pwb\":\n",
    "        df = load_and_merge_tables(model=model,\n",
    "                               model_type=model_type,\n",
    "                               periods=periods_to_load,\n",
    "                               parameters=parameters,\n",
    "                               load_subsample=False,\n",
    "                               load_target=True)\n",
    "    else:\n",
    "        df = load_and_merge_tables_unactive_clients(model=model,\n",
    "                      model_type=model_type,\n",
    "                      target_periods=periods_to_load,\n",
    "                      parameters=parameters,\n",
    "                      load_subsample=False,\n",
    "                      load_target=True)\n",
    "    print(df.shape)\n",
    "\n",
    "    df = add_selected_variables(df, lgbmodel.feature_name(), fill_na_with)\n",
    "    df=df[lgbmodel.feature_name()].copy()\n",
    "    \n",
    "    df[score_var] = lgbmodel.predict(df)\n",
    "    df.sort_values(score_var, inplace=True)\n",
    "\n",
    "    # Return lime input\n",
    "    return lgbmodel, df"
   ]
  },
  {
   "cell_type": "code",
   "execution_count": 4,
   "metadata": {},
   "outputs": [],
   "source": [
    "def generate_output_dependence_plot(shap_values ,x_train, number_of_top_variables,sample_size,path=None):\n",
    "    \n",
    "    vars_=[var for var in df.columns if var not in [\"SCORE\"]]\n",
    "    x_train = df.loc[:,vars_].sample(sample_size,random_state=42)\n",
    "    top_inds = np.argsort(-np.sum(np.abs(np.array(shap_values)), 0))\n",
    "    \n",
    "    for i in np.arange(0, number_of_top_variables):\n",
    "        variable_selected = x_train.columns[top_inds[i]]\n",
    "        print('Iterating SHAP values for variable {}'.format(variable_selected))\n",
    "        index_ = x_train[variable_selected] <= x_train[variable_selected].quantile(0.95)\n",
    "        train=x_train.loc[index_]\n",
    "        shap_=shap_values[np.where(index_)]\n",
    "        shap.dependence_plot(variable_selected,shap_values[x_train.index],x_train,feature_names=train.columns,xmax=\"percentile(0.95)\",interaction_index=None,show=False)\n",
    "        plt.title(\"{} plot\".format(variable_selected))\n",
    "        plt.ylabel(\"Score contribution for the \\n {} feature\".format(variable_selected))\n",
    "        aux_dt = pd.DataFrame({'variable_value':x_train[variable_selected].values,\n",
    "                               'Shap':shap_values[x_train.index,np.where(np.array(x_train.columns) == variable_selected)][0]})\n",
    "        aux_dt.sort_values(by='variable_value', inplace=True)\n",
    "        ysmoothed = gaussian_filter1d(aux_dt['Shap'], sigma=5)\n",
    "        plt.plot(aux_dt['variable_value'], ysmoothed, 'g-', linewidth=4)\n",
    "        #aux_dt.to_csv(f'/u01/share/cesar/others/shap_values_curves/{variable_selected}.csv')"
   ]
  },
  {
   "cell_type": "code",
   "execution_count": 5,
   "metadata": {},
   "outputs": [],
   "source": [
    "def shap_values_and_explaner(df,model_obj):\n",
    "    \n",
    "    # Calculate the explainer\n",
    "    explainerModel = shap.TreeExplainer(model=model_obj, model_output=\"raw\")\n",
    "    explainerModel.model.original_model.params[\"objective\"] = \"binary\"\n",
    "    \n",
    "    # Calculate the shap values\n",
    "    shap_values = explainerModel.shap_values(df[model_obj.feature_name()])[1]\n",
    "    # mean rate\n",
    "    mean_rate = explainerModel.expected_value[1]\n",
    "    \n",
    "    return explainerModel,shap_values, mean_rate "
   ]
  },
  {
   "cell_type": "code",
   "execution_count": 6,
   "metadata": {},
   "outputs": [],
   "source": [
    "def sigmoid(x):\n",
    "    return 1 / (1 + math.exp(-x))"
   ]
  },
  {
   "cell_type": "code",
   "execution_count": 7,
   "metadata": {},
   "outputs": [],
   "source": [
    "def closest_node(node, nodes):\n",
    "    nodes = np.asarray(nodes)\n",
    "    dist_2 = np.nansum((nodes - node)**2, axis=1)\n",
    "    return  np.where(dist_2==min(dist_2))"
   ]
  },
  {
   "cell_type": "markdown",
   "metadata": {},
   "source": [
    "### Load data for analysis"
   ]
  },
  {
   "cell_type": "code",
   "execution_count": 25,
   "metadata": {},
   "outputs": [
    {
     "name": "stdout",
     "output_type": "stream",
     "text": [
      "/data/uy_po/models/20210610_2027_pwb_binary_model/\n",
      "2021-06-11 19:44:00,043 - aa_engine_pkg.assets.utils.utilities - INFO - Loading 20200801\n",
      "2021-06-11 19:44:00,058 - aa_engine_pkg.assets.utils.utilities - INFO - target rows 8129\n",
      "2021-06-11 19:44:00,060 - aa_engine_pkg.assets.utils.utilities - INFO - target proportion 3.223 %\n",
      "2021-06-11 19:44:00,725 - aa_engine_pkg.assets.utils.utilities - INFO - master periods to load 26\n"
     ]
    },
    {
     "name": "stderr",
     "output_type": "stream",
     "text": [
      "Sorting because non-concatenation axis is not aligned. A future version\n",
      "of pandas will change to not sort by default.\n",
      "\n",
      "To accept the future behavior, pass 'sort=False'.\n",
      "\n",
      "To retain the current behavior and silence the warning, pass 'sort=True'.\n",
      "\n"
     ]
    },
    {
     "name": "stdout",
     "output_type": "stream",
     "text": [
      "2021-06-11 19:44:08,426 - aa_engine_pkg.assets.utils.utilities - INFO - master table rows after join 7942\n",
      "2021-06-11 19:44:08,428 - aa_engine_pkg.assets.utils.utilities - INFO - total customers 7942\n",
      "2021-06-11 19:44:08,429 - aa_engine_pkg.assets.utils.utilities - INFO - target proportion 3.211 %\n",
      "2021-06-11 19:44:08,430 - aa_engine_pkg.assets.utils.utilities - INFO - Loading 20200901\n",
      "2021-06-11 19:44:08,447 - aa_engine_pkg.assets.utils.utilities - INFO - target rows 7992\n",
      "2021-06-11 19:44:08,448 - aa_engine_pkg.assets.utils.utilities - INFO - target proportion 2.79 %\n",
      "2021-06-11 19:44:09,119 - aa_engine_pkg.assets.utils.utilities - INFO - master periods to load 27\n",
      "2021-06-11 19:44:17,281 - aa_engine_pkg.assets.utils.utilities - INFO - master table rows after join 7812\n",
      "2021-06-11 19:44:17,283 - aa_engine_pkg.assets.utils.utilities - INFO - total customers 7812\n",
      "2021-06-11 19:44:17,284 - aa_engine_pkg.assets.utils.utilities - INFO - target proportion 2.816 %\n",
      "2021-06-11 19:44:17,285 - aa_engine_pkg.assets.utils.utilities - INFO - Loading 20201001\n",
      "2021-06-11 19:44:17,299 - aa_engine_pkg.assets.utils.utilities - INFO - target rows 8115\n",
      "2021-06-11 19:44:17,300 - aa_engine_pkg.assets.utils.utilities - INFO - target proportion 2.81 %\n",
      "2021-06-11 19:44:17,958 - aa_engine_pkg.assets.utils.utilities - INFO - master periods to load 26\n",
      "2021-06-11 19:44:25,690 - aa_engine_pkg.assets.utils.utilities - INFO - master table rows after join 7930\n",
      "2021-06-11 19:44:25,693 - aa_engine_pkg.assets.utils.utilities - INFO - total customers 7930\n",
      "2021-06-11 19:44:25,695 - aa_engine_pkg.assets.utils.utilities - INFO - target proportion 2.837 %\n",
      "2021-06-11 19:44:25,695 - aa_engine_pkg.assets.utils.utilities - INFO - Loading 20201101\n",
      "2021-06-11 19:44:25,712 - aa_engine_pkg.assets.utils.utilities - INFO - target rows 7956\n",
      "2021-06-11 19:44:25,713 - aa_engine_pkg.assets.utils.utilities - INFO - target proportion 2.112 %\n",
      "2021-06-11 19:44:26,402 - aa_engine_pkg.assets.utils.utilities - INFO - master periods to load 26\n",
      "2021-06-11 19:44:34,258 - aa_engine_pkg.assets.utils.utilities - INFO - master table rows after join 7752\n",
      "2021-06-11 19:44:34,261 - aa_engine_pkg.assets.utils.utilities - INFO - total customers 7752\n",
      "2021-06-11 19:44:34,262 - aa_engine_pkg.assets.utils.utilities - INFO - target proportion 2.103 %\n",
      "2021-06-11 19:44:34,263 - aa_engine_pkg.assets.utils.utilities - INFO - Loading 20201207\n",
      "2021-06-11 19:44:34,279 - aa_engine_pkg.assets.utils.utilities - INFO - target rows 7687\n",
      "2021-06-11 19:44:34,281 - aa_engine_pkg.assets.utils.utilities - INFO - target proportion 1.119 %\n",
      "2021-06-11 19:44:34,920 - aa_engine_pkg.assets.utils.utilities - INFO - master periods to load 26\n",
      "2021-06-11 19:44:42,799 - aa_engine_pkg.assets.utils.utilities - INFO - master table rows after join 7467\n",
      "2021-06-11 19:44:42,801 - aa_engine_pkg.assets.utils.utilities - INFO - total customers 7467\n",
      "2021-06-11 19:44:42,802 - aa_engine_pkg.assets.utils.utilities - INFO - target proportion 1.112 %\n",
      "2021-06-11 19:44:42,803 - aa_engine_pkg.assets.utils.utilities - INFO - Loading 20210104\n",
      "2021-06-11 19:44:42,821 - aa_engine_pkg.assets.utils.utilities - INFO - target rows 7488\n",
      "2021-06-11 19:44:42,822 - aa_engine_pkg.assets.utils.utilities - INFO - target proportion 2.163 %\n",
      "2021-06-11 19:44:43,466 - aa_engine_pkg.assets.utils.utilities - INFO - master periods to load 26\n",
      "2021-06-11 19:44:51,515 - aa_engine_pkg.assets.utils.utilities - INFO - master table rows after join 7218\n",
      "2021-06-11 19:44:51,518 - aa_engine_pkg.assets.utils.utilities - INFO - total customers 7218\n",
      "2021-06-11 19:44:51,519 - aa_engine_pkg.assets.utils.utilities - INFO - target proportion 2.147 %\n",
      "2021-06-11 19:44:51,520 - aa_engine_pkg.assets.utils.utilities - INFO - Loading 20210201\n",
      "2021-06-11 19:44:51,538 - aa_engine_pkg.assets.utils.utilities - INFO - target rows 7539\n",
      "2021-06-11 19:44:51,539 - aa_engine_pkg.assets.utils.utilities - INFO - target proportion 2.281 %\n",
      "2021-06-11 19:44:52,174 - aa_engine_pkg.assets.utils.utilities - INFO - master periods to load 26\n",
      "2021-06-11 19:44:59,978 - aa_engine_pkg.assets.utils.utilities - INFO - master table rows after join 7244\n",
      "2021-06-11 19:44:59,980 - aa_engine_pkg.assets.utils.utilities - INFO - total customers 7244\n",
      "2021-06-11 19:44:59,981 - aa_engine_pkg.assets.utils.utilities - INFO - target proportion 2.305 %\n",
      "2021-06-11 19:44:59,982 - aa_engine_pkg.assets.utils.utilities - INFO - Loading 20210301\n",
      "2021-06-11 19:44:59,998 - aa_engine_pkg.assets.utils.utilities - INFO - target rows 7688\n",
      "2021-06-11 19:44:59,999 - aa_engine_pkg.assets.utils.utilities - INFO - target proportion 2.406 %\n",
      "2021-06-11 19:45:00,655 - aa_engine_pkg.assets.utils.utilities - INFO - master periods to load 26\n",
      "2021-06-11 19:45:08,677 - aa_engine_pkg.assets.utils.utilities - INFO - master table rows after join 7326\n",
      "2021-06-11 19:45:08,680 - aa_engine_pkg.assets.utils.utilities - INFO - total customers 7326\n",
      "2021-06-11 19:45:08,681 - aa_engine_pkg.assets.utils.utilities - INFO - target proportion 2.471 %\n",
      "(60691, 942)\n",
      "[] not found in df\n"
     ]
    }
   ],
   "source": [
    "lgbmodel, df = load_explainability_input(model,model_type,parameters)"
   ]
  },
  {
   "cell_type": "markdown",
   "metadata": {},
   "source": [
    "### Calculate, the shap values, TreeExplainer and meam risk"
   ]
  },
  {
   "cell_type": "code",
   "execution_count": 26,
   "metadata": {},
   "outputs": [
    {
     "name": "stderr",
     "output_type": "stream",
     "text": [
      "Setting feature_perturbation = \"tree_path_dependent\" because no background data was given.\n",
      "LightGBM binary classifier with TreeExplainer shap values output has changed to a list of ndarray\n"
     ]
    }
   ],
   "source": [
    "explainerModel,shap_values, mean_rate = shap_values_and_explaner(df,lgbmodel)"
   ]
  },
  {
   "cell_type": "markdown",
   "metadata": {},
   "source": [
    "### Top 10 variables Shap values vs variable values"
   ]
  },
  {
   "cell_type": "code",
   "execution_count": 27,
   "metadata": {},
   "outputs": [],
   "source": [
    "vars_=[var for var in df.columns if var not in [\"SCORE\"]]\n",
    "top_inds = np.argsort(-np.sum(np.abs(np.array(shap_values)), 0))"
   ]
  },
  {
   "cell_type": "code",
   "execution_count": 67,
   "metadata": {},
   "outputs": [
    {
     "name": "stdout",
     "output_type": "stream",
     "text": [
      "variable: EVF_BALANCE_BROUGHT_FORWARD_nanmax_5\n"
     ]
    }
   ],
   "source": [
    "i=11\n",
    "variable_selected =\"EVF_BALANCE_BROUGHT_FORWARD_nanmax_5\"#df.columns[top_inds[i]]\n",
    "print(f'variable: {variable_selected}')"
   ]
  },
  {
   "cell_type": "code",
   "execution_count": 68,
   "metadata": {},
   "outputs": [],
   "source": [
    "aux_df = pd.DataFrame({f'{variable_selected}':df[variable_selected].values,\n",
    "                       'shap_value':shap_values[:,np.where(np.array(df.columns) == variable_selected)[0][0]]})\n",
    "index_ =aux_df[f'{variable_selected}'] <= aux_df[f'{variable_selected}'].quantile(0.95)\n",
    "aux_df=aux_df.loc[index_].copy()\n",
    "#aux_df[f'{variable_selected}'].fillna(-1,inplace=True)\n",
    "smooth=aux_df.groupby([f'{variable_selected}']).agg({'shap_value':'median'}).reset_index()\n",
    "smooth['shap_value_2']=smooth['shap_value'].rolling(window=50).mean()"
   ]
  },
  {
   "cell_type": "code",
   "execution_count": 69,
   "metadata": {},
   "outputs": [
    {
     "data": {
      "image/png": "[encoded data removed]",
      "text/plain": [
       "<Figure size 432x288 with 1 Axes>"
      ]
     },
     "metadata": {
      "needs_background": "light"
     },
     "output_type": "display_data"
    }
   ],
   "source": [
    "#ax = sns.stripplot(x=f\"{variable_selected}\", y=\"shap_value\",color=(.25,.5,.75),data=aux_df,alpha=0.25)\n",
    "ax=sns.scatterplot(x=f\"{variable_selected}\", y=\"shap_value\",color=(.25,.5,.75),data=aux_df,alpha=0.5)\n",
    "#plt.plot(smooth[f\"{variable_selected}\"], smooth[\"shap_value_2\"], 'g-', linewidth=4)\n",
    "plt.ylabel(f\"Score contribution for the \\n {variable_selected} feature\")\n",
    "plt.title(f\"{variable_selected} plot\")\n",
    "path='/u01/share/cesar/others_uy/shap_values_curves/'\n",
    "filename = datetime.today().strftime(\"%Y%m%d\") + f\"_SHAP_plot_{variable_selected}.png\"\n",
    "plt.savefig(os.path.join(path, filename),bbox_inches ='tight')"
   ]
  },
  {
   "cell_type": "code",
   "execution_count": null,
   "metadata": {},
   "outputs": [],
   "source": [
    "print(f'Range of the score {df.SCORE.min()} {df.SCORE.max()}')"
   ]
  },
  {
   "cell_type": "markdown",
   "metadata": {},
   "source": [
    "### Shap values for bucket of clientes"
   ]
  },
  {
   "cell_type": "code",
   "execution_count": null,
   "metadata": {},
   "outputs": [],
   "source": [
    "df[\"ventile\"]=pd.qcut(-df.SCORE,20,labels=list(range(1,21)))\n",
    "df[\"order\"]= list(range(len(df.index)))"
   ]
  },
  {
   "cell_type": "code",
   "execution_count": null,
   "metadata": {},
   "outputs": [],
   "source": [
    "df.SCORE.hist(bins=100)\n",
    "plt.axvline(df.SCORE.mean(), color = 'r', linestyle = 'dashed', linewidth = 1)\n",
    "plt.title(f'Mean score value X={np.round(df.SCORE.mean(),6)}')"
   ]
  },
  {
   "cell_type": "code",
   "execution_count": null,
   "metadata": {},
   "outputs": [],
   "source": [
    "#Best clients by ventil\n",
    "best_clientes_by_ventil=df.sort_values('SCORE',ascending=False).groupby([\"ventile\"]).head(1)"
   ]
  },
  {
   "cell_type": "code",
   "execution_count": null,
   "metadata": {},
   "outputs": [],
   "source": [
    "best_clientes_by_ventil.head()"
   ]
  },
  {
   "cell_type": "code",
   "execution_count": null,
   "metadata": {},
   "outputs": [],
   "source": [
    "model_format = parameters[\"models\"][model][model_type][\"model_to_load\"]\n",
    "path_file_importance=f'/data/co_po/models/{model_format}_{model}_binary_model/{model_format}_important_variables.csv'"
   ]
  },
  {
   "cell_type": "code",
   "execution_count": null,
   "metadata": {},
   "outputs": [],
   "source": [
    "shap_vals_df = pd.DataFrame(data=shap_values,columns=lgbmodel.feature_name())\n",
    "df_feature = pd.read_csv(path_file_importance, sep=\";\", decimal=\",\")"
   ]
  },
  {
   "cell_type": "code",
   "execution_count": null,
   "metadata": {},
   "outputs": [],
   "source": [
    "level=20"
   ]
  },
  {
   "cell_type": "code",
   "execution_count": null,
   "metadata": {},
   "outputs": [],
   "source": [
    "plt.rcParams.update({'figure.figsize':(7.5,7.5), 'figure.dpi':100})\n",
    "best_clientes_by_ventil=best_clientes_by_ventil.loc[best_clientes_by_ventil.ventile<=2]\n",
    "factor=100\n",
    "for client, ventile, shap_ix in zip(best_clientes_by_ventil.index,best_clientes_by_ventil.ventile,best_clientes_by_ventil.order):\n",
    "    \n",
    "    # Sigmoid transformation\n",
    "    data=shap_vals_df.iloc[shap_ix]\n",
    "    shap_total=data.sum()\n",
    "    sigmoid_intercept = sigmoid(mean_rate)\n",
    "    score = sigmoid(mean_rate + shap_total) #score = sum of all shap values+base_line \n",
    "    score_diff = score - sigmoid_intercept\n",
    "\n",
    "    \n",
    "    vars_=df_feature.iloc[0:level].column.to_list()\n",
    "    shap_val_clientes=data.apply(lambda x: x / data.sum() * score_diff)\n",
    "    shap_val_clientes_vars_out=shap_val_clientes.loc[[x for x in list(shap_val_clientes.index) if x not in vars_ ]]\n",
    "    shap_val_clientes_vars_in=shap_val_clientes.loc[vars_]\n",
    "\n",
    "    variables=list(shap_val_clientes_vars_in.index)\n",
    "    variables.insert(0,'base level')\n",
    "    variables.append('rest')\n",
    "    shap=list(shap_val_clientes_vars_in.values)\n",
    "    shap.insert(0,sigmoid_intercept)\n",
    "    shap.append(shap_val_clientes_vars_out.sum())\n",
    "    shap=[x*factor for x in shap]\n",
    "\n",
    "    waterfall_chart.plot(variables,shap,net_label=f'score * {factor}',formatting=\"{:,.2f}\",Title=f'Client with the best score in the ventile {ventile}', rotation_value=90);"
   ]
  },
  {
   "cell_type": "code",
   "execution_count": null,
   "metadata": {},
   "outputs": [],
   "source": [
    "shap"
   ]
  },
  {
   "cell_type": "code",
   "execution_count": null,
   "metadata": {},
   "outputs": [],
   "source": []
  }
 ],
 "metadata": {
  "kernelspec": {
   "display_name": "Python 3",
   "language": "python",
   "name": "python3"
  },
  "language_info": {
   "codemirror_mode": {
    "name": "ipython",
    "version": 3
   },
   "file_extension": ".py",
   "mimetype": "text/x-python",
   "name": "python",
   "nbconvert_exporter": "python",
   "pygments_lexer": "ipython3",
   "version": "3.7.7"
  }
 },
 "nbformat": 4,
 "nbformat_minor": 4
}
