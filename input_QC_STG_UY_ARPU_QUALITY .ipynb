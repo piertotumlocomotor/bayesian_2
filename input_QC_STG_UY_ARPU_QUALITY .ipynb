{
 "cells": [
  {
   "cell_type": "code",
   "execution_count": 14,
   "metadata": {},
   "outputs": [],
   "source": [
    "# Load kedro environment (not needed in .py)\n",
    "from pathlib import Path\n",
    "from kedro.framework.context import load_context\n",
    "import numpy as np\n",
    "\n",
    "# Load a context to be able to work in the notebook\n",
    "#current_dir = Path.cwd()\n",
    "current_dir = Path(\"/u01/share/cesar/aa_engine_uy/notebooks/\")\n",
    "proj_path = current_dir.parent\n",
    "context = load_context(proj_path)\n",
    "catalog = context.catalog\n",
    "credentials = context.config_loader.get(\"credentials*\",\"credentials*/**\")\n",
    "parameters = context.config_loader.get(\"parameters*\",\"parameters*/**\")"
   ]
  },
  {
   "cell_type": "code",
   "execution_count": 2,
   "metadata": {},
   "outputs": [
    {
     "name": "stdout",
     "output_type": "stream",
     "text": [
      "2020-12-14 14:07:06,749 - kedro.io.data_catalog - INFO - Loading data from `arpu_quality` (SQLPartitionedDataSet)...\n"
     ]
    }
   ],
   "source": [
    "arpuQ=catalog.load(\"arpu_quality\")"
   ]
  },
  {
   "cell_type": "code",
   "execution_count": 4,
   "metadata": {},
   "outputs": [
    {
     "name": "stderr",
     "output_type": "stream",
     "text": [
      "/u01/miniconda3/envs/uypo37/lib/python3.7/site-packages/sqlalchemy/dialects/oracle/base.py:1381: SAWarning: Oracle version (19, 5, 0, 0, 0) is known to have a maximum identifier length of 128, rather than the historical default of 30. SQLAlchemy 1.4 will use 128 for this database; please set max_identifier_length=128 in create_engine() in order to test the application with this new length, or set to 30 in order to assure that 30 continues to be used.  In particular, pay close attention to the behavior of database migrations as dynamically generated names may change. See the section 'Max Identifier Lengths' in the SQLAlchemy Oracle dialect documentation for background.\n",
      "  % ((self.server_version_info,))\n"
     ]
    }
   ],
   "source": [
    "arpuQ=arpuQ.filter_by_query(\"select * from stg_uy_arpu_quality\")"
   ]
  },
  {
   "cell_type": "code",
   "execution_count": 6,
   "metadata": {},
   "outputs": [
    {
     "data": {
      "text/html": [
       "<div>\n",
       "<style scoped>\n",
       "    .dataframe tbody tr th:only-of-type {\n",
       "        vertical-align: middle;\n",
       "    }\n",
       "\n",
       "    .dataframe tbody tr th {\n",
       "        vertical-align: top;\n",
       "    }\n",
       "\n",
       "    .dataframe thead th {\n",
       "        text-align: right;\n",
       "    }\n",
       "</style>\n",
       "<table border=\"1\" class=\"dataframe\">\n",
       "  <thead>\n",
       "    <tr style=\"text-align: right;\">\n",
       "      <th></th>\n",
       "      <th>CUSTOMER_ID</th>\n",
       "      <th>CHARGES_YYYYMM</th>\n",
       "      <th>CHARGES_AMOUNT</th>\n",
       "      <th>DISCOUNT_AMOUNT</th>\n",
       "      <th>ARPU</th>\n",
       "      <th>DATE_EXP</th>\n",
       "    </tr>\n",
       "  </thead>\n",
       "  <tbody>\n",
       "    <tr>\n",
       "      <th>0</th>\n",
       "      <td>610364</td>\n",
       "      <td>202002</td>\n",
       "      <td>2445.07</td>\n",
       "      <td>-813.12</td>\n",
       "      <td>1631.95</td>\n",
       "      <td>202002</td>\n",
       "    </tr>\n",
       "    <tr>\n",
       "      <th>1</th>\n",
       "      <td>55340840</td>\n",
       "      <td>202002</td>\n",
       "      <td>2434.42</td>\n",
       "      <td>-801.64</td>\n",
       "      <td>1632.78</td>\n",
       "      <td>202002</td>\n",
       "    </tr>\n",
       "    <tr>\n",
       "      <th>2</th>\n",
       "      <td>51014995</td>\n",
       "      <td>202002</td>\n",
       "      <td>2371.30</td>\n",
       "      <td>-738.52</td>\n",
       "      <td>1632.78</td>\n",
       "      <td>202002</td>\n",
       "    </tr>\n",
       "    <tr>\n",
       "      <th>3</th>\n",
       "      <td>54031393</td>\n",
       "      <td>202002</td>\n",
       "      <td>2225.40</td>\n",
       "      <td>-591.81</td>\n",
       "      <td>1633.59</td>\n",
       "      <td>202002</td>\n",
       "    </tr>\n",
       "    <tr>\n",
       "      <th>4</th>\n",
       "      <td>2373819</td>\n",
       "      <td>202002</td>\n",
       "      <td>1998.36</td>\n",
       "      <td>-364.75</td>\n",
       "      <td>1633.61</td>\n",
       "      <td>202002</td>\n",
       "    </tr>\n",
       "  </tbody>\n",
       "</table>\n",
       "</div>"
      ],
      "text/plain": [
       "   CUSTOMER_ID CHARGES_YYYYMM  CHARGES_AMOUNT  DISCOUNT_AMOUNT     ARPU  \\\n",
       "0       610364         202002         2445.07          -813.12  1631.95   \n",
       "1     55340840         202002         2434.42          -801.64  1632.78   \n",
       "2     51014995         202002         2371.30          -738.52  1632.78   \n",
       "3     54031393         202002         2225.40          -591.81  1633.59   \n",
       "4      2373819         202002         1998.36          -364.75  1633.61   \n",
       "\n",
       "  DATE_EXP  \n",
       "0   202002  \n",
       "1   202002  \n",
       "2   202002  \n",
       "3   202002  \n",
       "4   202002  "
      ]
     },
     "execution_count": 6,
     "metadata": {},
     "output_type": "execute_result"
    }
   ],
   "source": [
    "arpuQ.head()"
   ]
  },
  {
   "cell_type": "code",
   "execution_count": 27,
   "metadata": {},
   "outputs": [
    {
     "data": {
      "text/plain": [
       "-1.1368683772161603e-13"
      ]
     },
     "execution_count": 27,
     "metadata": {},
     "output_type": "execute_result"
    }
   ],
   "source": [
    "1631.95-2445.07-(-813.12)"
   ]
  },
  {
   "cell_type": "code",
   "execution_count": 11,
   "metadata": {},
   "outputs": [
    {
     "data": {
      "text/html": [
       "<div>\n",
       "<style scoped>\n",
       "    .dataframe tbody tr th:only-of-type {\n",
       "        vertical-align: middle;\n",
       "    }\n",
       "\n",
       "    .dataframe tbody tr th {\n",
       "        vertical-align: top;\n",
       "    }\n",
       "\n",
       "    .dataframe thead tr th {\n",
       "        text-align: left;\n",
       "    }\n",
       "\n",
       "    .dataframe thead tr:last-of-type th {\n",
       "        text-align: right;\n",
       "    }\n",
       "</style>\n",
       "<table border=\"1\" class=\"dataframe\">\n",
       "  <thead>\n",
       "    <tr>\n",
       "      <th></th>\n",
       "      <th>CUSTOMER_ID</th>\n",
       "      <th colspan=\"2\" halign=\"left\">CHARGES_AMOUNT</th>\n",
       "      <th colspan=\"2\" halign=\"left\">DISCOUNT_AMOUNT</th>\n",
       "      <th colspan=\"2\" halign=\"left\">ARPU</th>\n",
       "    </tr>\n",
       "    <tr>\n",
       "      <th></th>\n",
       "      <th>nunique</th>\n",
       "      <th>count</th>\n",
       "      <th>mean</th>\n",
       "      <th>count</th>\n",
       "      <th>mean</th>\n",
       "      <th>count</th>\n",
       "      <th>mean</th>\n",
       "    </tr>\n",
       "    <tr>\n",
       "      <th>DATE_EXP</th>\n",
       "      <th></th>\n",
       "      <th></th>\n",
       "      <th></th>\n",
       "      <th></th>\n",
       "      <th></th>\n",
       "      <th></th>\n",
       "      <th></th>\n",
       "    </tr>\n",
       "  </thead>\n",
       "  <tbody>\n",
       "    <tr>\n",
       "      <th>202001</th>\n",
       "      <td>116356</td>\n",
       "      <td>116356</td>\n",
       "      <td>2245.786032</td>\n",
       "      <td>116356</td>\n",
       "      <td>-427.518266</td>\n",
       "      <td>116356</td>\n",
       "      <td>1818.267766</td>\n",
       "    </tr>\n",
       "    <tr>\n",
       "      <th>202002</th>\n",
       "      <td>115934</td>\n",
       "      <td>115934</td>\n",
       "      <td>2264.755508</td>\n",
       "      <td>115934</td>\n",
       "      <td>-436.996776</td>\n",
       "      <td>115934</td>\n",
       "      <td>1827.758732</td>\n",
       "    </tr>\n",
       "  </tbody>\n",
       "</table>\n",
       "</div>"
      ],
      "text/plain": [
       "         CUSTOMER_ID CHARGES_AMOUNT              DISCOUNT_AMOUNT              \\\n",
       "             nunique          count         mean           count        mean   \n",
       "DATE_EXP                                                                       \n",
       "202001        116356         116356  2245.786032          116356 -427.518266   \n",
       "202002        115934         115934  2264.755508          115934 -436.996776   \n",
       "\n",
       "            ARPU               \n",
       "           count         mean  \n",
       "DATE_EXP                       \n",
       "202001    116356  1818.267766  \n",
       "202002    115934  1827.758732  "
      ]
     },
     "execution_count": 11,
     "metadata": {},
     "output_type": "execute_result"
    }
   ],
   "source": [
    "arpuQ.groupby([\"DATE_EXP\"]).agg({'CUSTOMER_ID':'nunique','CHARGES_AMOUNT':['count','mean'],'DISCOUNT_AMOUNT':['count','mean'],'ARPU':['count','mean']})"
   ]
  },
  {
   "cell_type": "code",
   "execution_count": 15,
   "metadata": {},
   "outputs": [
    {
     "data": {
      "text/html": [
       "<div>\n",
       "<style scoped>\n",
       "    .dataframe tbody tr th:only-of-type {\n",
       "        vertical-align: middle;\n",
       "    }\n",
       "\n",
       "    .dataframe tbody tr th {\n",
       "        vertical-align: top;\n",
       "    }\n",
       "\n",
       "    .dataframe thead th {\n",
       "        text-align: right;\n",
       "    }\n",
       "</style>\n",
       "<table border=\"1\" class=\"dataframe\">\n",
       "  <thead>\n",
       "    <tr style=\"text-align: right;\">\n",
       "      <th></th>\n",
       "      <th>discount_01</th>\n",
       "    </tr>\n",
       "    <tr>\n",
       "      <th>DATE_EXP</th>\n",
       "      <th></th>\n",
       "    </tr>\n",
       "  </thead>\n",
       "  <tbody>\n",
       "    <tr>\n",
       "      <th>202001</th>\n",
       "      <td>0.474269</td>\n",
       "    </tr>\n",
       "    <tr>\n",
       "      <th>202002</th>\n",
       "      <td>0.466170</td>\n",
       "    </tr>\n",
       "  </tbody>\n",
       "</table>\n",
       "</div>"
      ],
      "text/plain": [
       "          discount_01\n",
       "DATE_EXP             \n",
       "202001       0.474269\n",
       "202002       0.466170"
      ]
     },
     "execution_count": 15,
     "metadata": {},
     "output_type": "execute_result"
    }
   ],
   "source": [
    "arpuQ[\"discount_01\"]=np.where(arpuQ.DISCOUNT_AMOUNT==0,1,0)\n",
    "arpuQ.groupby(\"DATE_EXP\").agg({'discount_01':'mean'})"
   ]
  },
  {
   "cell_type": "code",
   "execution_count": 63,
   "metadata": {},
   "outputs": [],
   "source": [
    "#ARPU-CHARGES_AMOUNT+DISCOUNT_AMOUNT\n",
    "arpuQ[\"dd\"]=abs(arpuQ.ARPU - (arpuQ.CHARGES_AMOUNT+arpuQ.DISCOUNT_AMOUNT))\n",
    "arpuQ[\"flag\"]=np.where(arpuQ.dd<0.0001,1,0)"
   ]
  },
  {
   "cell_type": "code",
   "execution_count": 66,
   "metadata": {},
   "outputs": [
    {
     "data": {
      "text/plain": [
       "1.0"
      ]
     },
     "execution_count": 66,
     "metadata": {},
     "output_type": "execute_result"
    }
   ],
   "source": [
    "arpuQ.flag.mean()"
   ]
  }
 ],
 "metadata": {
  "kernelspec": {
   "display_name": "Python 3",
   "language": "python",
   "name": "python3"
  },
  "language_info": {
   "codemirror_mode": {
    "name": "ipython",
    "version": 3
   },
   "file_extension": ".py",
   "mimetype": "text/x-python",
   "name": "python",
   "nbconvert_exporter": "python",
   "pygments_lexer": "ipython3",
   "version": "3.7.7"
  }
 },
 "nbformat": 4,
 "nbformat_minor": 4
}
