{
 "cells": [
  {
   "cell_type": "code",
   "execution_count": 3,
   "metadata": {},
   "outputs": [],
   "source": [
    "# Load kedro environment (not needed in .py)\n",
    "from pathlib import Path\n",
    "from kedro.framework.context import load_context\n",
    "\n",
    "# Load a context to be able to work in the notebook\n",
    "#current_dir = Path.cwd()\n",
    "current_dir = Path(\"/u01/share/cesar/aa_engine_uy/notebooks/\")\n",
    "proj_path = current_dir.parent\n",
    "context = load_context(proj_path)\n",
    "catalog = context.catalog\n",
    "credentials = context.config_loader.get(\"credentials*\",\"credentials*/**\")\n",
    "parameters = context.config_loader.get(\"parameters*\",\"parameters*/**\")\n",
    "\n",
    "from aa_engine_pkg.assets.utils import *\n",
    "from aa_engine_pkg.assets.core.data.kedro.catalog_expansion.partitioned_sql import SQLPartitionedDataSet\n",
    "from datetime import datetime"
   ]
  },
  {
   "cell_type": "code",
   "execution_count": 2,
   "metadata": {},
   "outputs": [
    {
     "name": "stdout",
     "output_type": "stream",
     "text": [
      "2021-01-08 15:07:52,048 - kedro.io.data_catalog - INFO - Loading data from `upgrades_basicos` (SQLPartitionedDataSet)...\n"
     ]
    }
   ],
   "source": [
    "upgrades=catalog.load('upgrades_basicos')"
   ]
  },
  {
   "cell_type": "code",
   "execution_count": 50,
   "metadata": {},
   "outputs": [],
   "source": [
    "def prod_moves(upgrades:SQLPartitionedDataSet,aniomes:str):\n",
    "    start_date=pd.to_datetime(aniomes+\"01\")\n",
    "    end_date = start_date + relativedelta(months=1) - timedelta(days=1)\n",
    "    start_date=start_date.strftime('%Y%m%d')\n",
    "    end_date=end_date.strftime('%Y%m%d')\n",
    "    print(start_date, \"|\",end_date)\n",
    "    # Load data for required period\n",
    "    df_prod_change = upgrades.filter_by(date=[start_date,end_date])\n",
    "    \n",
    "    df_prod_change=df_prod_change.loc[df_prod_change.EVENTO_ID.isin([107,108])].sort_values(['CUSTOMER_ID','FECHA'])\n",
    "    \n",
    "    df_prod_change=df_prod_change.groupby('CUSTOMER_ID').head(2)\n",
    "    \n",
    "    old=df_prod_change.loc[df_prod_change.EVENTO_ID==107]\n",
    "    new=df_prod_change.loc[df_prod_change.EVENTO_ID==108]\n",
    "    movs=pd.merge(old,new,on=\"CUSTOMER_ID\",how=\"left\")\n",
    "    \n",
    "    print(f'clientes total {movs.shape[0]}')\n",
    "    movs=movs[[\"CUSTOMER_ID\",\"PRODUCTO_x\",\"PRODUCTO_y\"]]\n",
    "    movs[\"perido\"]=aniomes\n",
    "    path=f'/u01/share/cesar/others/upsell_uy/{aniomes}'\n",
    "    movs.to_parquet(path)"
   ]
  },
  {
   "cell_type": "code",
   "execution_count": 51,
   "metadata": {},
   "outputs": [],
   "source": [
    "aniomes=[\"202001\",\"202002\",\"202003\",\"202004\",\"202005\",\"202006\",\"202007\",\"202008\",\"202009\",\"202010\",\"202011\",\"202012\"]"
   ]
  },
  {
   "cell_type": "code",
   "execution_count": 52,
   "metadata": {},
   "outputs": [
    {
     "name": "stdout",
     "output_type": "stream",
     "text": [
      "20200101 | 20200131\n",
      "select * from stg_uy_plan_evento where PROD_CATEGORY_ID = 3 and EVENTO_ID IN (107,108,133,142) and FECHA >= to_date('20200101', 'yyyymmdd') and FECHA < to_date('20200131', 'yyyymmdd')\n",
      "clientes total 1438\n",
      "20200201 | 20200229\n",
      "select * from stg_uy_plan_evento where PROD_CATEGORY_ID = 3 and EVENTO_ID IN (107,108,133,142) and FECHA >= to_date('20200201', 'yyyymmdd') and FECHA < to_date('20200229', 'yyyymmdd')\n",
      "clientes total 1307\n",
      "20200301 | 20200331\n",
      "select * from stg_uy_plan_evento where PROD_CATEGORY_ID = 3 and EVENTO_ID IN (107,108,133,142) and FECHA >= to_date('20200301', 'yyyymmdd') and FECHA < to_date('20200331', 'yyyymmdd')\n",
      "clientes total 1338\n",
      "20200401 | 20200430\n",
      "select * from stg_uy_plan_evento where PROD_CATEGORY_ID = 3 and EVENTO_ID IN (107,108,133,142) and FECHA >= to_date('20200401', 'yyyymmdd') and FECHA < to_date('20200430', 'yyyymmdd')\n",
      "clientes total 1149\n",
      "20200501 | 20200531\n",
      "select * from stg_uy_plan_evento where PROD_CATEGORY_ID = 3 and EVENTO_ID IN (107,108,133,142) and FECHA >= to_date('20200501', 'yyyymmdd') and FECHA < to_date('20200531', 'yyyymmdd')\n",
      "clientes total 1459\n",
      "20200601 | 20200630\n",
      "select * from stg_uy_plan_evento where PROD_CATEGORY_ID = 3 and EVENTO_ID IN (107,108,133,142) and FECHA >= to_date('20200601', 'yyyymmdd') and FECHA < to_date('20200630', 'yyyymmdd')\n",
      "clientes total 1629\n",
      "20200701 | 20200731\n",
      "select * from stg_uy_plan_evento where PROD_CATEGORY_ID = 3 and EVENTO_ID IN (107,108,133,142) and FECHA >= to_date('20200701', 'yyyymmdd') and FECHA < to_date('20200731', 'yyyymmdd')\n",
      "clientes total 1620\n",
      "20200801 | 20200831\n",
      "select * from stg_uy_plan_evento where PROD_CATEGORY_ID = 3 and EVENTO_ID IN (107,108,133,142) and FECHA >= to_date('20200801', 'yyyymmdd') and FECHA < to_date('20200831', 'yyyymmdd')\n",
      "clientes total 1340\n",
      "20200901 | 20200930\n",
      "select * from stg_uy_plan_evento where PROD_CATEGORY_ID = 3 and EVENTO_ID IN (107,108,133,142) and FECHA >= to_date('20200901', 'yyyymmdd') and FECHA < to_date('20200930', 'yyyymmdd')\n",
      "clientes total 1376\n",
      "20201001 | 20201031\n",
      "select * from stg_uy_plan_evento where PROD_CATEGORY_ID = 3 and EVENTO_ID IN (107,108,133,142) and FECHA >= to_date('20201001', 'yyyymmdd') and FECHA < to_date('20201031', 'yyyymmdd')\n",
      "clientes total 1736\n",
      "20201101 | 20201130\n",
      "select * from stg_uy_plan_evento where PROD_CATEGORY_ID = 3 and EVENTO_ID IN (107,108,133,142) and FECHA >= to_date('20201101', 'yyyymmdd') and FECHA < to_date('20201130', 'yyyymmdd')\n",
      "clientes total 1444\n",
      "20201201 | 20201231\n",
      "select * from stg_uy_plan_evento where PROD_CATEGORY_ID = 3 and EVENTO_ID IN (107,108,133,142) and FECHA >= to_date('20201201', 'yyyymmdd') and FECHA < to_date('20201231', 'yyyymmdd')\n",
      "clientes total 1489\n"
     ]
    }
   ],
   "source": [
    "for x in aniomes:\n",
    "    prod_moves(upgrades,x)"
   ]
  },
  {
   "cell_type": "code",
   "execution_count": 53,
   "metadata": {},
   "outputs": [
    {
     "name": "stdout",
     "output_type": "stream",
     "text": [
      "clientes total 1438\n",
      "clientes total 1307\n",
      "clientes total 1338\n",
      "clientes total 1149\n",
      "clientes total 1459\n",
      "clientes total 1629\n",
      "clientes total 1620\n",
      "clientes total 1340\n",
      "clientes total 1376\n",
      "clientes total 1736\n",
      "clientes total 1444\n",
      "clientes total 1489\n"
     ]
    }
   ],
   "source": [
    "df=list()\n",
    "for x in aniomes:\n",
    "    path=f'/u01/share/cesar/others/upsell_uy/{x}'\n",
    "    movs=pd.read_parquet(path)\n",
    "    print(f'clientes total {movs.shape[0]}')\n",
    "    df.append(movs)\n",
    "M=pd.concat(df)"
   ]
  },
  {
   "cell_type": "code",
   "execution_count": 54,
   "metadata": {},
   "outputs": [],
   "source": [
    "M.to_csv(f'/u01/share/cesar/others/upsell_uy/movimientos.csv')"
   ]
  },
  {
   "cell_type": "code",
   "execution_count": null,
   "metadata": {},
   "outputs": [],
   "source": []
  },
  {
   "cell_type": "code",
   "execution_count": null,
   "metadata": {},
   "outputs": [],
   "source": []
  }
 ],
 "metadata": {
  "kernelspec": {
   "display_name": "Python 3",
   "language": "python",
   "name": "python3"
  },
  "language_info": {
   "codemirror_mode": {
    "name": "ipython",
    "version": 3
   },
   "file_extension": ".py",
   "mimetype": "text/x-python",
   "name": "python",
   "nbconvert_exporter": "python",
   "pygments_lexer": "ipython3",
   "version": "3.7.7"
  }
 },
 "nbformat": 4,
 "nbformat_minor": 4
}
